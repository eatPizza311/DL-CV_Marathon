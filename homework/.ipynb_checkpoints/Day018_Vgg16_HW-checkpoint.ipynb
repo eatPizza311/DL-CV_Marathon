{
 "cells": [
  {
   "cell_type": "markdown",
   "metadata": {},
   "source": [
    "# 知識點\n",
    "- AlexNet 的 LRN 在近期研究中，被發現加在模型裡並不會提高準度，反而會增加記憶體使用量，因此已經沒有什麼文獻在使用 LRN。\n",
    "\n",
    "額外參考[機器學習技法 學習筆記 (7)：Radial Basis Function Network與Matrix Factorization ](https://www.ycc.idv.tw/ml-course-techniques_7.html)"
   ]
  },
  {
   "cell_type": "markdown",
   "metadata": {},
   "source": [
    "## 『本次練習內容』\n",
    "#### 學習如何搭建Vgg16模型"
   ]
  },
  {
   "cell_type": "markdown",
   "metadata": {},
   "source": [
    "## 『本次練習目的』\n",
    "  #### 熟悉經典Vgg模型的搭建\n",
    "  #### 時間較為充裕的學員可以嘗試搭建Vgg19當作練習"
   ]
  },
  {
   "cell_type": "markdown",
   "metadata": {},
   "source": [
    "---"
   ]
  },
  {
   "cell_type": "markdown",
   "metadata": {},
   "source": [
    "##### 請參考下面結構圖搭建Vgg16模型"
   ]
  },
  {
   "cell_type": "markdown",
   "metadata": {},
   "source": [
    "<img src='img/VGG16_p.png'>"
   ]
  },
  {
   "cell_type": "code",
   "execution_count": 1,
   "metadata": {},
   "outputs": [],
   "source": [
    "import numpy as np\n",
    "from tensorflow import keras\n",
    "from tensorflow.keras.models import Model\n",
    "from tensorflow.keras.layers import Conv2D, Dense, Flatten, Input ,MaxPool2D,\\\n",
    "                                    GlobalMaxPooling2D, GlobalAveragePooling2D"
   ]
  },
  {
   "cell_type": "code",
   "execution_count": 2,
   "metadata": {},
   "outputs": [],
   "source": [
    "def VGG16(include_top=True, input_tensor=None, input_shape=(224, 224, 1),\n",
    "          pooling='max', classes=1000):\n",
    "    \n",
    "    img_input = Input(shape=input_shape)\n",
    "    \n",
    "    x = Conv2D(64, (3, 3), activation='relu', padding='same', name='blk1_conv1')(img_input)\n",
    "    x = Conv2D(64, (3, 3), activation='relu', padding='same', name='blk1_conv2')(x)\n",
    "    x = MaxPool2D((2, 2), strides=(2, 2), name='blk1_pool')(x)\n",
    "    \n",
    "    x = Conv2D(128, (3, 3), activation='relu', padding='same', name='blk2_conv1')(x)\n",
    "    x = Conv2D(128, (3, 3), activation='relu', padding='same', name='blk2_conv2')(x)\n",
    "    x = MaxPool2D((2, 2), strides=(2, 2), name='blk2_pool')(x)\n",
    "    \n",
    "    x = Conv2D(256, (3, 3), activation='relu', padding='same', name='blk3_conv1')(x)\n",
    "    x = Conv2D(256, (3, 3), activation='relu', padding='same', name='blk3_conv2')(x)\n",
    "    x = Conv2D(256, (3, 3), activation='relu', padding='same', name='blk3_conv3')(x)\n",
    "    x = MaxPool2D((2, 2), strides=(2, 2), name='blk3_pool')(x)\n",
    "    \n",
    "    x = Conv2D(512, (3, 3), activation='relu', padding='same', name='blk4_conv1')(x)\n",
    "    x = Conv2D(512, (3, 3), activation='relu', padding='same', name='blk4_conv2')(x)\n",
    "    x = Conv2D(512, (3, 3), activation='relu', padding='same', name='blk4_conv3')(x)\n",
    "    x = MaxPool2D((2, 2), strides=(2, 2), name='blk4_pool')(x)\n",
    "    \n",
    "    x = Conv2D(512, (3, 3), activation='relu', padding='same', name='blk5_conv1')(x)\n",
    "    x = Conv2D(512, (3, 3), activation='relu', padding='same', name='blk5_conv2')(x)\n",
    "    x = Conv2D(512, (3, 3), activation='relu', padding='same', name='blk5_conv3')(x)\n",
    "    x = MaxPool2D((2, 2), strides=(2, 2), name='blk5_pool')(x)\n",
    "    \n",
    "    if include_top:\n",
    "        # Classification block\n",
    "        x = Flatten(name='flatten')(x)\n",
    "        x = Dense(4096, activation='relu', name='fc1')(x)\n",
    "        x = Dense(4096, activation='relu', name='fc2')(x)\n",
    "        x = Dense(classes, activation='softmax', name='prediction')(x)\n",
    "    else:\n",
    "        if pooling == 'avg':\n",
    "            x = GlobalAveragePooling2D()(x)\n",
    "        elif pooling == 'max':\n",
    "            x = GlobalMaxPooling2D()(x)\n",
    "    \n",
    "    inputs = img_input\n",
    "    model = Model(inputs, x, name='vgg16')\n",
    "    return model\n",
    "        "
   ]
  },
  {
   "cell_type": "code",
   "execution_count": 3,
   "metadata": {},
   "outputs": [],
   "source": [
    "model = VGG16(include_top=False)"
   ]
  },
  {
   "cell_type": "code",
   "execution_count": 4,
   "metadata": {},
   "outputs": [
    {
     "name": "stdout",
     "output_type": "stream",
     "text": [
      "Model: \"vgg16\"\n",
      "_________________________________________________________________\n",
      "Layer (type)                 Output Shape              Param #   \n",
      "=================================================================\n",
      "input_1 (InputLayer)         [(None, 224, 224, 1)]     0         \n",
      "_________________________________________________________________\n",
      "blk1_conv1 (Conv2D)          (None, 224, 224, 64)      640       \n",
      "_________________________________________________________________\n",
      "blk1_conv2 (Conv2D)          (None, 224, 224, 64)      36928     \n",
      "_________________________________________________________________\n",
      "blk1_pool (MaxPooling2D)     (None, 112, 112, 64)      0         \n",
      "_________________________________________________________________\n",
      "blk2_conv1 (Conv2D)          (None, 112, 112, 128)     73856     \n",
      "_________________________________________________________________\n",
      "blk2_conv2 (Conv2D)          (None, 112, 112, 128)     147584    \n",
      "_________________________________________________________________\n",
      "blk2_pool (MaxPooling2D)     (None, 56, 56, 128)       0         \n",
      "_________________________________________________________________\n",
      "blk3_conv1 (Conv2D)          (None, 56, 56, 256)       295168    \n",
      "_________________________________________________________________\n",
      "blk3_conv2 (Conv2D)          (None, 56, 56, 256)       590080    \n",
      "_________________________________________________________________\n",
      "blk3_conv3 (Conv2D)          (None, 56, 56, 256)       590080    \n",
      "_________________________________________________________________\n",
      "blk3_pool (MaxPooling2D)     (None, 28, 28, 256)       0         \n",
      "_________________________________________________________________\n",
      "blk4_conv1 (Conv2D)          (None, 28, 28, 512)       1180160   \n",
      "_________________________________________________________________\n",
      "blk4_conv2 (Conv2D)          (None, 28, 28, 512)       2359808   \n",
      "_________________________________________________________________\n",
      "blk4_conv3 (Conv2D)          (None, 28, 28, 512)       2359808   \n",
      "_________________________________________________________________\n",
      "blk4_pool (MaxPooling2D)     (None, 14, 14, 512)       0         \n",
      "_________________________________________________________________\n",
      "blk5_conv1 (Conv2D)          (None, 14, 14, 512)       2359808   \n",
      "_________________________________________________________________\n",
      "blk5_conv2 (Conv2D)          (None, 14, 14, 512)       2359808   \n",
      "_________________________________________________________________\n",
      "blk5_conv3 (Conv2D)          (None, 14, 14, 512)       2359808   \n",
      "_________________________________________________________________\n",
      "blk5_pool (MaxPooling2D)     (None, 7, 7, 512)         0         \n",
      "_________________________________________________________________\n",
      "global_max_pooling2d (Global (None, 512)               0         \n",
      "=================================================================\n",
      "Total params: 14,713,536\n",
      "Trainable params: 14,713,536\n",
      "Non-trainable params: 0\n",
      "_________________________________________________________________\n"
     ]
    }
   ],
   "source": [
    "model.summary()"
   ]
  }
 ],
 "metadata": {
  "kernelspec": {
   "display_name": "Python 3",
   "language": "python",
   "name": "python3"
  },
  "language_info": {
   "codemirror_mode": {
    "name": "ipython",
    "version": 3
   },
   "file_extension": ".py",
   "mimetype": "text/x-python",
   "name": "python",
   "nbconvert_exporter": "python",
   "pygments_lexer": "ipython3",
   "version": "3.6.9"
  }
 },
 "nbformat": 4,
 "nbformat_minor": 2
}
