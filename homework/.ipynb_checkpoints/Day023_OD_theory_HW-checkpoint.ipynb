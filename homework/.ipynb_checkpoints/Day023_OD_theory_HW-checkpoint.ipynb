{
 "cells": [
  {
   "attachments": {},
   "cell_type": "markdown",
   "metadata": {},
   "source": [
    "# 知識點\n",
    "- 透過模型架構與 Loss Function 設計，Object Detection 能告訴你物件在照片中的位置，並同時偵測多個不同的物件。\n",
    "- 雖然 Object Detetcion 演算法很多，但其 Loss Function 都不會脫離 **Bounding Box Regression** 與 **Classification** 兩大核心。\n",
    "- 其中值得注意的一點是，Object Detection 是同時在學習『定位』與『分類』這兩件事情，所以可以共享 CNN 層。\n",
    "- Object Detection 演算法依照是否需要『透過特定運算方法』來提出可能包含物件的『框 ( Region Proposal )』分為兩類：\n",
    "    - One Stage: 由於 One Stage 不需要這個步驟，通常運算速度更快，但精度也相對較低。\n",
    "    - Two Stage: 早期的 Object Detection 主要為 Two Stage，其重點為先找出 Region Proposal，再做回歸與分類。\n",
    "    \n",
    "    \n",
    "## One stage\n",
    "- 核心理念為一次到位，直接對 Default Bounding Box 進行回歸與分類。<br>\n",
    "Deafult Bounding Box : 直接以 Pixels 為中心點提出『Region Proposal』\n",
    "- 不用再想辦法提出 Region Proposal，因此通常速度上有較大的優勢，近期在精度上也逐漸能追上 Two Stage。\n",
    "<img src=\"https://miro.medium.com/max/2880/1*JuhjYUWXgfxMMoa4SIKLkA.png\" width=500>\n",
    "\n",
    "參考 [Understanding SSD MultiBox — Real-Time Object Detection In Deep Learning](https://towardsdatascience.com/understanding-ssd-multibox-real-time-object-detection-in-deep-learning-495ef744fab)\n",
    "\n",
    "## Two stage\n",
    "- Region Proposal 就是可能有包含物件的 Bounding Box，提出的方法很多，如：\n",
    "    - 圖像 segmentation 的一種，其主要是基於圖像的顏色，紋理，大小和形狀兼容計算相似區域的分層分組。<br>\n",
    "    其主要由 Hierarchical Grouping Algorithm 與 Diversification Strategies 兩部份組成。\n",
    "        \n",
    "        <img src=\"https://miro.medium.com/max/470/1*JCTKABvEOLBTZsfT85Q2AQ.png\" width=500>\n",
    "        \n",
    "        參考 [Review of Deep Learning Algorithms for Object Detection](https://medium.com/zylapp/review-of-deep-learning-algorithms-for-object-detection-c1f3d437b852)\n",
    "        \n",
    "    - RPN\n",
    "    \n",
    "# [OpenCV 教學：實作 Selective Search 物體偵測候選區域演算法](https://blog.gtwang.org/programming/selective-search-for-object-detection/)"
   ]
  },
  {
   "cell_type": "markdown",
   "metadata": {},
   "source": [
    "##  Home work\n",
    "請列舉出 Two Stage 與 One Stage 的經典演算法各三個，並比較其運算速度與精度 (MAP)。\n",
    "\n",
    "> 請參考 [yehengchen/Object-Detection-and-Tracking](https://github.com/yehengchen/Object-Detection-and-Tracking/blob/master/Two-stage%20vs%20One-stage%20Detectors.md)"
   ]
  }
 ],
 "metadata": {
  "kernelspec": {
   "display_name": "Python 3",
   "language": "python",
   "name": "python3"
  },
  "language_info": {
   "codemirror_mode": {
    "name": "ipython",
    "version": 3
   },
   "file_extension": ".py",
   "mimetype": "text/x-python",
   "name": "python",
   "nbconvert_exporter": "python",
   "pygments_lexer": "ipython3",
   "version": "3.6.9"
  }
 },
 "nbformat": 4,
 "nbformat_minor": 4
}
