{
 "cells": [
  {
   "cell_type": "markdown",
   "metadata": {},
   "source": [
    "# 知識點\n",
    "- Strides：控制 Kernel 在圖像不同 Dimention 上移動的距離。\n",
    "- Padding：主要用途在於避免圖像尺寸下降，為了避免干擾圖像資訊，通常補 0，而 Padding=1 就是在圖像周圍補一圈值為 0 的像素。\n",
    "- Keras 的 Convolution2D 雖然 padding 預設為 valid，但通常會用 same:\n",
    "    - valid: 不填補，多的像素直接捨去。\n",
    "        - `out_height = ceil(float(in_height - filter_height + 1) / float(strides[1]))`\n",
    "        - `out_width = ceil(float(in_width - filter_width + 1) / float(strides[2]))`\n",
    "\n",
    "    - same: 補到讓使用 Strides=(1,1) 時不管使用多大的Kernel，輸出 Feature map 的寬、高等於輸入影像的寬高。\n",
    "        - `out_height = ceil(float(in_height) / float(strides[1]))`\n",
    "        - `out_width = ceil(float(in_width) / float(strides[2]))`\n",
    "        \n",
    "- 輸出的 feature map 大小為 Output = (Input + 2 * padding - Kernel_Size) / Stride+1"
   ]
  },
  {
   "cell_type": "markdown",
   "metadata": {
    "colab_type": "text",
    "id": "0BBfdBwkyTiQ"
   },
   "source": [
    "## 『作業內容』\n",
    "####   依照指示，透過調整Padding、Strides參數控制輸出Feature map大小\n"
   ]
  },
  {
   "cell_type": "markdown",
   "metadata": {
    "colab_type": "text",
    "id": "7CtbcEb4yTiT"
   },
   "source": [
    "## 『目標』\n",
    "####   了解輸出feature map尺寸變化原理"
   ]
  },
  {
   "cell_type": "code",
   "execution_count": 1,
   "metadata": {},
   "outputs": [],
   "source": [
    "from tensorflow.keras.models import Sequential, Model\n",
    "from tensorflow.keras.layers import Convolution2D, Input"
   ]
  },
  {
   "cell_type": "code",
   "execution_count": 2,
   "metadata": {},
   "outputs": [
    {
     "name": "stdout",
     "output_type": "stream",
     "text": [
      "Model: \"sequential\"\n",
      "_________________________________________________________________\n",
      "Layer (type)                 Output Shape              Param #   \n",
      "=================================================================\n",
      "conv2d (Conv2D)              (None, 13, 13, 32)        1184      \n",
      "=================================================================\n",
      "Total params: 1,184\n",
      "Trainable params: 1,184\n",
      "Non-trainable params: 0\n",
      "_________________________________________________________________\n"
     ]
    }
   ],
   "source": [
    "kernel_size = (6, 6)\n",
    "filters = 32\n",
    "\n",
    "# same padding, stride = (1, 1)\n",
    "clf = Sequential([\n",
    "    Convolution2D(filters=filters, kernel_size=kernel_size, input_shape=(13, 13, 1),\n",
    "                  padding='same'),\n",
    "])\n",
    "clf.summary()"
   ]
  },
  {
   "cell_type": "code",
   "execution_count": 3,
   "metadata": {},
   "outputs": [
    {
     "name": "stdout",
     "output_type": "stream",
     "text": [
      "Model: \"sequential_1\"\n",
      "_________________________________________________________________\n",
      "Layer (type)                 Output Shape              Param #   \n",
      "=================================================================\n",
      "conv2d_1 (Conv2D)            (None, 7, 7, 32)          1184      \n",
      "=================================================================\n",
      "Total params: 1,184\n",
      "Trainable params: 1,184\n",
      "Non-trainable params: 0\n",
      "_________________________________________________________________\n"
     ]
    }
   ],
   "source": [
    "# Same padding、strides=(2,2)\n",
    "clf = Sequential([\n",
    "    Convolution2D(filters=filters, kernel_size=kernel_size, input_shape=(13, 13, 1),\n",
    "                  padding='same', strides=(2, 2)),\n",
    "])\n",
    "clf.summary()"
   ]
  },
  {
   "cell_type": "code",
   "execution_count": 4,
   "metadata": {},
   "outputs": [
    {
     "name": "stdout",
     "output_type": "stream",
     "text": [
      "Model: \"sequential_2\"\n",
      "_________________________________________________________________\n",
      "Layer (type)                 Output Shape              Param #   \n",
      "=================================================================\n",
      "conv2d_2 (Conv2D)            (None, 8, 8, 32)          1184      \n",
      "=================================================================\n",
      "Total params: 1,184\n",
      "Trainable params: 1,184\n",
      "Non-trainable params: 0\n",
      "_________________________________________________________________\n"
     ]
    }
   ],
   "source": [
    "# Valid padding、strides=(1,1)\n",
    "clf = Sequential([\n",
    "    Convolution2D(filters=filters, kernel_size=kernel_size, input_shape=(13, 13, 1),\n",
    "                  padding='valid', strides=(1, 1)),\n",
    "])\n",
    "clf.summary()"
   ]
  },
  {
   "cell_type": "code",
   "execution_count": 5,
   "metadata": {
    "colab": {},
    "colab_type": "code",
    "id": "2fhi3otQyTiU"
   },
   "outputs": [
    {
     "name": "stdout",
     "output_type": "stream",
     "text": [
      "Model: \"sequential_3\"\n",
      "_________________________________________________________________\n",
      "Layer (type)                 Output Shape              Param #   \n",
      "=================================================================\n",
      "conv2d_3 (Conv2D)            (None, 4, 4, 32)          1184      \n",
      "=================================================================\n",
      "Total params: 1,184\n",
      "Trainable params: 1,184\n",
      "Non-trainable params: 0\n",
      "_________________________________________________________________\n"
     ]
    }
   ],
   "source": [
    "# Valid padding、strides=(2,2)\n",
    "clf = Sequential([\n",
    "    Convolution2D(filters=filters, kernel_size=kernel_size, input_shape=(13, 13, 1),\n",
    "                  padding='valid', strides=(2, 2)),\n",
    "])\n",
    "clf.summary()"
   ]
  }
 ],
 "metadata": {
  "colab": {
   "name": "Strides and Padding.ipynb",
   "provenance": []
  },
  "kernelspec": {
   "display_name": "Python 3",
   "language": "python",
   "name": "python3"
  },
  "language_info": {
   "codemirror_mode": {
    "name": "ipython",
    "version": 3
   },
   "file_extension": ".py",
   "mimetype": "text/x-python",
   "name": "python",
   "nbconvert_exporter": "python",
   "pygments_lexer": "ipython3",
   "version": "3.6.9"
  }
 },
 "nbformat": 4,
 "nbformat_minor": 1
}
