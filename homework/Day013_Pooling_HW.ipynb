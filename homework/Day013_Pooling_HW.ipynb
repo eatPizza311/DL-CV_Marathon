{
 "cells": [
  {
   "cell_type": "markdown",
   "metadata": {},
   "source": [
    "# 知識點\n",
    "- 最大池化為選擇 Kernel 內最大的值，其用意在於選取特徵，保留重要紋理，並降低過擬合，在某種程度上也能提升圖像旋轉、平移、縮放的不變性。\n",
    "\n",
    "- 平均池化強調的是特徵的平滑性，不像 Max Pooling 用來提取重要特徵與邊緣，因此缺點是不管重要或不重要特徵都平均計算。\n",
    "\n",
    "- 是否使用 Pooling 目前仍有爭議，因為我們一方面希望藉由降低 Feature Maps 的尺度來降低運算量、提取特徵並加速收斂。<br>\n",
    "但同時也會失去部分特徵值，就實驗結果來看，一、兩層的 Pooling 確實能增快收斂並達到一樣或更好的準度(相較於沒有使用Pooling 的模型)。<br>\n",
    "然而大量的 Pooling 雖然收斂更快，最後準度卻也比較低，大家可以自己去嘗試看看結果如何。\n",
    "\n",
    "- CNN 後面接上 FCN 的目的主要是為了利用全連接層的神經元做為分類器各類別的代表機率。\n",
    "\n",
    "- 攤平其實就是將大於 1 維的 Tensor 拉平為二維( batch size, channels )，如此一來才能夠與全連接層合併。<br>\n",
    "而除了 Flatten 以外，Global Average Pooling 也是常見連結 CNN 與 FC 的方式 ([詳見參考資料](https://principlesofdeeplearning.com/index.php/a-tutorial-on-global-average-pooling/))。"
   ]
  },
  {
   "cell_type": "markdown",
   "metadata": {},
   "source": [
    "## 『作業內容』\n",
    "####   依照指示，搭建Maxpooling層與全連接層"
   ]
  },
  {
   "cell_type": "markdown",
   "metadata": {},
   "source": [
    "## 『目標』\n",
    "####   了解Maxpooling的原理與CNN、FC層連結的方式"
   ]
  },
  {
   "cell_type": "code",
   "execution_count": 1,
   "metadata": {},
   "outputs": [],
   "source": [
    "from tensorflow.keras.models import Sequential\n",
    "from tensorflow.keras.layers import Conv2D, MaxPooling2D, Flatten, Dense, GlobalAveragePooling2D"
   ]
  },
  {
   "cell_type": "code",
   "execution_count": 2,
   "metadata": {},
   "outputs": [
    {
     "name": "stdout",
     "output_type": "stream",
     "text": [
      "Model: \"sequential\"\n",
      "_________________________________________________________________\n",
      "Layer (type)                 Output Shape              Param #   \n",
      "=================================================================\n",
      "conv2d (Conv2D)              (None, 32, 32, 32)        896       \n",
      "_________________________________________________________________\n",
      "max_pooling2d (MaxPooling2D) (None, 16, 16, 32)        0         \n",
      "_________________________________________________________________\n",
      "conv2d_1 (Conv2D)            (None, 16, 16, 64)        18496     \n",
      "_________________________________________________________________\n",
      "max_pooling2d_1 (MaxPooling2 (None, 8, 8, 64)          0         \n",
      "_________________________________________________________________\n",
      "conv2d_2 (Conv2D)            (None, 8, 8, 128)         73856     \n",
      "_________________________________________________________________\n",
      "max_pooling2d_2 (MaxPooling2 (None, 8, 8, 128)         0         \n",
      "_________________________________________________________________\n",
      "conv2d_3 (Conv2D)            (None, 8, 8, 10)          11530     \n",
      "_________________________________________________________________\n",
      "flatten (Flatten)            (None, 640)               0         \n",
      "_________________________________________________________________\n",
      "dense (Dense)                (None, 28)                17948     \n",
      "=================================================================\n",
      "Total params: 122,726\n",
      "Trainable params: 122,726\n",
      "Non-trainable params: 0\n",
      "_________________________________________________________________\n"
     ]
    }
   ],
   "source": [
    "input_shape = (32, 32, 3)\n",
    "\n",
    "model = Sequential([\n",
    "    Conv2D(32, kernel_size=(3, 3), padding='same', input_shape=input_shape),\n",
    "    MaxPooling2D(pool_size=(2, 2), strides=(2, 2)), # (16, 16, 32)\n",
    "    Conv2D(64, kernel_size=(3, 3), padding='same'),\n",
    "    MaxPooling2D(pool_size=(2, 2), strides=(2, 2)), # (8, 8, 64)\n",
    "    Conv2D(128, kernel_size=(3, 3), padding='same'),\n",
    "    MaxPooling2D(pool_size=(1, 1), strides=(1, 1)), # (8, 8, 128)\n",
    "    Conv2D(10, kernel_size=(3, 3), padding='same'),\n",
    "    Flatten(), # (640, )\n",
    "    Dense(28)\n",
    "])\n",
    "\n",
    "model.summary()"
   ]
  },
  {
   "cell_type": "code",
   "execution_count": 3,
   "metadata": {},
   "outputs": [
    {
     "name": "stdout",
     "output_type": "stream",
     "text": [
      "Model: \"sequential_1\"\n",
      "_________________________________________________________________\n",
      "Layer (type)                 Output Shape              Param #   \n",
      "=================================================================\n",
      "conv2d_4 (Conv2D)            (None, 32, 32, 32)        896       \n",
      "_________________________________________________________________\n",
      "max_pooling2d_3 (MaxPooling2 (None, 16, 16, 32)        0         \n",
      "_________________________________________________________________\n",
      "conv2d_5 (Conv2D)            (None, 16, 16, 64)        18496     \n",
      "_________________________________________________________________\n",
      "max_pooling2d_4 (MaxPooling2 (None, 8, 8, 64)          0         \n",
      "_________________________________________________________________\n",
      "conv2d_6 (Conv2D)            (None, 8, 8, 128)         73856     \n",
      "_________________________________________________________________\n",
      "max_pooling2d_5 (MaxPooling2 (None, 8, 8, 128)         0         \n",
      "_________________________________________________________________\n",
      "conv2d_7 (Conv2D)            (None, 8, 8, 10)          11530     \n",
      "_________________________________________________________________\n",
      "global_average_pooling2d (Gl (None, 10)                0         \n",
      "_________________________________________________________________\n",
      "dense_1 (Dense)              (None, 28)                308       \n",
      "=================================================================\n",
      "Total params: 105,086\n",
      "Trainable params: 105,086\n",
      "Non-trainable params: 0\n",
      "_________________________________________________________________\n"
     ]
    }
   ],
   "source": [
    "input_shape = (32, 32, 3)\n",
    "\n",
    "model = Sequential([\n",
    "    Conv2D(32, kernel_size=(3, 3), padding='same', input_shape=input_shape),\n",
    "    MaxPooling2D(pool_size=(2, 2), strides=(2, 2)), # (16, 16, 32)\n",
    "    Conv2D(64, kernel_size=(3, 3), padding='same'),\n",
    "    MaxPooling2D(pool_size=(2, 2), strides=(2, 2)), # (8, 8, 64)\n",
    "    Conv2D(128, kernel_size=(3, 3), padding='same'),\n",
    "    MaxPooling2D(pool_size=(1, 1), strides=(1, 1)), # (8, 8, 128)\n",
    "    Conv2D(10, kernel_size=(3, 3), padding='same'),\n",
    "    GlobalAveragePooling2D(), # (10, )\n",
    "    Dense(28)\n",
    "])\n",
    "\n",
    "model.summary()"
   ]
  }
 ],
 "metadata": {
  "colab": {
   "name": "池化、全連接層.ipynb",
   "provenance": []
  },
  "kernelspec": {
   "display_name": "Python 3",
   "language": "python",
   "name": "python3"
  },
  "language_info": {
   "codemirror_mode": {
    "name": "ipython",
    "version": 3
   },
   "file_extension": ".py",
   "mimetype": "text/x-python",
   "name": "python",
   "nbconvert_exporter": "python",
   "pygments_lexer": "ipython3",
   "version": "3.6.9"
  }
 },
 "nbformat": 4,
 "nbformat_minor": 1
}
