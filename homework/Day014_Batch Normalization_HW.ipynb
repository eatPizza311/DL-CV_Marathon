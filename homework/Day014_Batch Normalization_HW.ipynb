{
 "cells": [
  {
   "cell_type": "markdown",
   "metadata": {},
   "source": [
    "# 知識點\n",
    "- Batch Normalization 是  2015 年時 Google 在論文 [Batch Normalization: Accelerating Deep Network Training by Reducing Internal Covariate Shift](https://arxiv.org/abs/1502.03167) 提出的概念，並將其應用在 Inception v2 中。\n",
    "\n",
    "\n",
    "- 其算法如下: <img src='https://pic4.zhimg.com/80/9ad70be49c408d464c71b8e9a006d141_720w.jpg?source=1940ef5c' width=400>\n",
    "\n",
    "    其中 $\\gamma$ 與 $\\beta$ 為 BN 層內唯二需要學習的參數 (做縮放與平移)\n",
    "    \n",
    "\n",
    "- 一般來說我們都是以 Mini Batch的方式訓練資料，然而每一個 Batch 間的資料分佈可能不太相同，而輸入每一層神經元的資訊分布也都可能會改變，造成收斂上的困難。<br>\n",
    "透過 BN，將每一層輸入資料的分佈歸一化為平均值為 0，方差為 1，確保資料分佈的穩定性。<br>\n",
    "然而 Normalize 改變資料的分佈，可能會造成上一層學到的特徵消失，因此 BN 的最後一步透過學習 $\\gamma$ 與 $\\beta$ 為，去微調 Normalize 後資料的分佈。<br>\n",
    "請參考 [Understanding the backward pass through Batch Normalization Layer](https://kratzert.github.io/2016/02/12/understanding-the-gradient-flow-through-the-batch-normalization-layer.html)\n",
    "\n",
    "\n",
    "- [梯度消失](https://hackmd.io/@allen108108/ByCqzBfC4)\n"
   ]
  },
  {
   "cell_type": "markdown",
   "metadata": {},
   "source": [
    "## 『本次練習內容』\n",
    "#### 搭建 Conv2D-BN-Activation層\n"
   ]
  },
  {
   "cell_type": "markdown",
   "metadata": {},
   "source": [
    "## 『本次練習目的』\n",
    "  #### 了解如何搭建CNN基礎架構，Conv2D-BN-Activation"
   ]
  },
  {
   "cell_type": "code",
   "execution_count": 1,
   "metadata": {
    "ExecuteTime": {
     "end_time": "2020-10-23T06:52:48.417847Z",
     "start_time": "2020-10-23T06:52:46.194157Z"
    }
   },
   "outputs": [],
   "source": [
    "from tensorflow.keras.models import Sequential\n",
    "from tensorflow.keras.layers import Conv2D, MaxPooling2D, Flatten,\\\n",
    "                                    Dense, BatchNormalization, Activation"
   ]
  },
  {
   "cell_type": "markdown",
   "metadata": {},
   "source": [
    "## 依照指示建立模型"
   ]
  },
  {
   "cell_type": "code",
   "execution_count": 2,
   "metadata": {
    "ExecuteTime": {
     "end_time": "2020-10-23T06:52:48.534544Z",
     "start_time": "2020-10-23T06:52:48.420337Z"
    }
   },
   "outputs": [
    {
     "name": "stdout",
     "output_type": "stream",
     "text": [
      "Model: \"sequential\"\n",
      "_________________________________________________________________\n",
      "Layer (type)                 Output Shape              Param #   \n",
      "=================================================================\n",
      "conv2d (Conv2D)              (None, 32, 32, 32)        896       \n",
      "_________________________________________________________________\n",
      "batch_normalization (BatchNo (None, 32, 32, 32)        128       \n",
      "_________________________________________________________________\n",
      "activation (Activation)      (None, 32, 32, 32)        0         \n",
      "_________________________________________________________________\n",
      "conv2d_1 (Conv2D)            (None, 32, 32, 32)        9248      \n",
      "_________________________________________________________________\n",
      "batch_normalization_1 (Batch (None, 32, 32, 32)        128       \n",
      "_________________________________________________________________\n",
      "activation_1 (Activation)    (None, 32, 32, 32)        0         \n",
      "=================================================================\n",
      "Total params: 10,400\n",
      "Trainable params: 10,272\n",
      "Non-trainable params: 128\n",
      "_________________________________________________________________\n"
     ]
    }
   ],
   "source": [
    "input_shape = (32, 32, 3)\n",
    "\n",
    "model = Sequential([\n",
    "    Conv2D(32, (3, 3), padding='same', input_shape=input_shape),\n",
    "    BatchNormalization(),\n",
    "    Activation('sigmoid'),\n",
    "    Conv2D(32, (3, 3), padding='same'),\n",
    "    BatchNormalization(),\n",
    "    Activation('sigmoid')\n",
    "])\n",
    "\n",
    "model.summary()"
   ]
  }
 ],
 "metadata": {
  "kernelspec": {
   "display_name": "Python 3",
   "language": "python",
   "name": "python3"
  },
  "language_info": {
   "codemirror_mode": {
    "name": "ipython",
    "version": 3
   },
   "file_extension": ".py",
   "mimetype": "text/x-python",
   "name": "python",
   "nbconvert_exporter": "python",
   "pygments_lexer": "ipython3",
   "version": "3.7.7"
  },
  "toc": {
   "base_numbering": 1,
   "nav_menu": {},
   "number_sections": false,
   "sideBar": true,
   "skip_h1_title": false,
   "title_cell": "Table of Contents",
   "title_sidebar": "Contents",
   "toc_cell": false,
   "toc_position": {},
   "toc_section_display": true,
   "toc_window_display": false
  }
 },
 "nbformat": 4,
 "nbformat_minor": 2
}
