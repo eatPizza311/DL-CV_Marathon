{
 "cells": [
  {
   "cell_type": "markdown",
   "metadata": {},
   "source": [
    "## 『本次練習內容』\n",
    "#### 運用這幾天所學觀念搭建一個CNN分類器，嘗試在驗證集資料上達到準確度80%"
   ]
  },
  {
   "cell_type": "markdown",
   "metadata": {},
   "source": [
    "## 『本次練習目的』\n",
    "  #### 熟悉CNN分類器搭建步驟與原理\n",
    "  #### 學員們可以嘗試不同搭法，如使用不同的Maxpooling層，用GlobalAveragePooling取代Flatten等等"
   ]
  },
  {
   "cell_type": "code",
   "execution_count": 1,
   "metadata": {
    "ExecuteTime": {
     "end_time": "2020-10-23T07:32:50.639671Z",
     "start_time": "2020-10-23T07:32:48.244198Z"
    }
   },
   "outputs": [],
   "source": [
    "from sklearn.preprocessing import OneHotEncoder\n",
    "\n",
    "import tensorflow as tf\n",
    "from tensorflow.keras.models import Sequential\n",
    "from tensorflow.keras.layers import Conv2D, MaxPool2D, Flatten, Dense,\\\n",
    "                                    Dropout, BatchNormalization, GlobalAveragePooling2D\n",
    "from tensorflow.keras.datasets import cifar10\n",
    "\n",
    "import numpy as np"
   ]
  },
  {
   "cell_type": "code",
   "execution_count": 2,
   "metadata": {
    "ExecuteTime": {
     "end_time": "2020-10-23T07:32:51.648726Z",
     "start_time": "2020-10-23T07:32:51.642656Z"
    }
   },
   "outputs": [],
   "source": [
    "import requests\n",
    "requests.packages.urllib3.disable_warnings()\n",
    "import ssl\n",
    "\n",
    "try:\n",
    "    _create_unverified_https_context = ssl._create_unverified_context\n",
    "except AttributeError:\n",
    "    # Legacy Python that doesn't verify HTTPS certificates by default\n",
    "    pass\n",
    "else:\n",
    "    # Handle target environment that doesn't support HTTPS verification\n",
    "    ssl._create_default_https_context = _create_unverified_https_context"
   ]
  },
  {
   "cell_type": "code",
   "execution_count": 3,
   "metadata": {
    "ExecuteTime": {
     "end_time": "2020-10-23T07:32:55.180741Z",
     "start_time": "2020-10-23T07:32:54.527969Z"
    }
   },
   "outputs": [
    {
     "name": "stdout",
     "output_type": "stream",
     "text": [
      "(50000, 32, 32, 3)\n"
     ]
    }
   ],
   "source": [
    "(x_train, y_train), (x_test, y_test) = cifar10.load_data()\n",
    "print(x_train.shape)"
   ]
  },
  {
   "cell_type": "code",
   "execution_count": 4,
   "metadata": {
    "ExecuteTime": {
     "end_time": "2020-10-23T07:33:00.963841Z",
     "start_time": "2020-10-23T07:32:56.207667Z"
    }
   },
   "outputs": [],
   "source": [
    "# normalize data\n",
    "def normalize(X_train, X_test):\n",
    "    mean = np.mean(X_train, axis=(0, 1, 2, 3))\n",
    "    std = np.std(X_train, axis=(0, 1, 2, 3))\n",
    "    X_train = (X_train - mean) / (std + 1e-7)\n",
    "    X_test = (X_test - mean) / (std + 1e-7)\n",
    "    return X_train, X_test, mean, std\n",
    "\n",
    "x_train, x_test, mean_train, std_train = normalize(x_train, x_test)"
   ]
  },
  {
   "cell_type": "code",
   "execution_count": 5,
   "metadata": {
    "ExecuteTime": {
     "end_time": "2020-10-23T07:33:00.980178Z",
     "start_time": "2020-10-23T07:33:00.966756Z"
    }
   },
   "outputs": [],
   "source": [
    "# One-hot\n",
    "one_hot_encoder = OneHotEncoder()\n",
    "y_train = one_hot_encoder.fit_transform(y_train).toarray()\n",
    "y_test = one_hot_encoder.transform(y_test).toarray()"
   ]
  },
  {
   "cell_type": "code",
   "execution_count": 6,
   "metadata": {},
   "outputs": [
    {
     "name": "stdout",
     "output_type": "stream",
     "text": [
      "Model: \"sequential\"\n",
      "_________________________________________________________________\n",
      "Layer (type)                 Output Shape              Param #   \n",
      "=================================================================\n",
      "conv2d (Conv2D)              (None, 32, 32, 64)        9472      \n",
      "_________________________________________________________________\n",
      "max_pooling2d (MaxPooling2D) (None, 16, 16, 64)        0         \n",
      "_________________________________________________________________\n",
      "conv2d_1 (Conv2D)            (None, 16, 16, 128)       73856     \n",
      "_________________________________________________________________\n",
      "conv2d_2 (Conv2D)            (None, 16, 16, 128)       147584    \n",
      "_________________________________________________________________\n",
      "max_pooling2d_1 (MaxPooling2 (None, 8, 8, 128)         0         \n",
      "_________________________________________________________________\n",
      "batch_normalization (BatchNo (None, 8, 8, 128)         512       \n",
      "_________________________________________________________________\n",
      "conv2d_3 (Conv2D)            (None, 8, 8, 256)         295168    \n",
      "_________________________________________________________________\n",
      "conv2d_4 (Conv2D)            (None, 8, 8, 256)         590080    \n",
      "_________________________________________________________________\n",
      "batch_normalization_1 (Batch (None, 8, 8, 256)         1024      \n",
      "_________________________________________________________________\n",
      "max_pooling2d_2 (MaxPooling2 (None, 4, 4, 256)         0         \n",
      "_________________________________________________________________\n",
      "global_average_pooling2d (Gl (None, 256)               0         \n",
      "_________________________________________________________________\n",
      "dense (Dense)                (None, 10)                2570      \n",
      "=================================================================\n",
      "Total params: 1,120,266\n",
      "Trainable params: 1,119,498\n",
      "Non-trainable params: 768\n",
      "_________________________________________________________________\n"
     ]
    }
   ],
   "source": [
    "model = Sequential([\n",
    "    Conv2D(64, 7, activation='relu', padding='same', input_shape=[32, 32, 3]),\n",
    "    MaxPool2D(2),\n",
    "    Conv2D(128, 3, activation='relu', padding='same'),\n",
    "    Conv2D(128, 3, activation='relu', padding='same'),\n",
    "    MaxPool2D(2),\n",
    "    BatchNormalization(),\n",
    "    Conv2D(256, 3, activation='relu', padding='same'),\n",
    "    Conv2D(256, 3, activation='relu', padding='same'),\n",
    "    BatchNormalization(),\n",
    "    MaxPool2D(2),\n",
    "    GlobalAveragePooling2D(),\n",
    "    Dense(10, activation='softmax')\n",
    "])\n",
    "\n",
    "model.summary()"
   ]
  },
  {
   "cell_type": "code",
   "execution_count": 7,
   "metadata": {
    "ExecuteTime": {
     "end_time": "2020-10-23T07:45:55.950298Z",
     "start_time": "2020-10-23T07:33:44.553404Z"
    },
    "code_folding": [],
    "scrolled": true
   },
   "outputs": [
    {
     "name": "stdout",
     "output_type": "stream",
     "text": [
      "Train on 50000 samples\n",
      "Epoch 1/100\n",
      "50000/50000 [==============================] - 26s 529us/sample - loss: 1.3967 - accuracy: 0.5012\n",
      "Epoch 2/100\n",
      "50000/50000 [==============================] - 12s 243us/sample - loss: 0.9117 - accuracy: 0.6785\n",
      "Epoch 3/100\n",
      "50000/50000 [==============================] - 12s 245us/sample - loss: 0.6926 - accuracy: 0.7584\n",
      "Epoch 4/100\n",
      "50000/50000 [==============================] - 12s 246us/sample - loss: 0.5422 - accuracy: 0.8132\n",
      "Epoch 5/100\n",
      "50000/50000 [==============================] - 12s 245us/sample - loss: 0.4192 - accuracy: 0.8556\n",
      "Epoch 6/100\n",
      "50000/50000 [==============================] - 12s 246us/sample - loss: 0.3160 - accuracy: 0.8926\n",
      "Epoch 7/100\n",
      "50000/50000 [==============================] - 12s 246us/sample - loss: 0.2262 - accuracy: 0.9226\n",
      "Epoch 8/100\n",
      "50000/50000 [==============================] - 12s 247us/sample - loss: 0.1560 - accuracy: 0.9475\n",
      "Epoch 9/100\n",
      "50000/50000 [==============================] - 12s 247us/sample - loss: 0.1144 - accuracy: 0.9626\n",
      "Epoch 10/100\n",
      "50000/50000 [==============================] - 12s 247us/sample - loss: 0.0915 - accuracy: 0.9704\n",
      "Epoch 11/100\n",
      "50000/50000 [==============================] - 12s 248us/sample - loss: 0.0747 - accuracy: 0.9755\n",
      "Epoch 12/100\n",
      "50000/50000 [==============================] - 12s 246us/sample - loss: 0.0644 - accuracy: 0.9789\n",
      "Epoch 13/100\n",
      "50000/50000 [==============================] - 12s 246us/sample - loss: 0.0580 - accuracy: 0.9808\n",
      "Epoch 14/100\n",
      "50000/50000 [==============================] - 12s 247us/sample - loss: 0.0551 - accuracy: 0.9817\n",
      "Epoch 15/100\n",
      "50000/50000 [==============================] - 12s 246us/sample - loss: 0.0494 - accuracy: 0.9831\n",
      "Epoch 16/100\n",
      "50000/50000 [==============================] - 12s 246us/sample - loss: 0.0452 - accuracy: 0.9844\n",
      "Epoch 17/100\n",
      "50000/50000 [==============================] - 12s 246us/sample - loss: 0.0431 - accuracy: 0.9854\n",
      "Epoch 18/100\n",
      "50000/50000 [==============================] - 12s 247us/sample - loss: 0.0378 - accuracy: 0.9873\n",
      "Epoch 19/100\n",
      "50000/50000 [==============================] - 12s 246us/sample - loss: 0.0361 - accuracy: 0.9882\n",
      "Epoch 20/100\n",
      "50000/50000 [==============================] - 12s 246us/sample - loss: 0.0344 - accuracy: 0.9883\n",
      "Epoch 21/100\n",
      "50000/50000 [==============================] - 12s 247us/sample - loss: 0.0321 - accuracy: 0.9892\n",
      "Epoch 22/100\n",
      "50000/50000 [==============================] - 12s 247us/sample - loss: 0.0318 - accuracy: 0.9891\n",
      "Epoch 23/100\n",
      "50000/50000 [==============================] - 12s 246us/sample - loss: 0.0298 - accuracy: 0.9904\n",
      "Epoch 24/100\n",
      "50000/50000 [==============================] - 12s 246us/sample - loss: 0.0278 - accuracy: 0.9907\n",
      "Epoch 25/100\n",
      "50000/50000 [==============================] - 12s 247us/sample - loss: 0.0266 - accuracy: 0.9909\n",
      "Epoch 26/100\n",
      "50000/50000 [==============================] - 12s 247us/sample - loss: 0.0265 - accuracy: 0.9908\n",
      "Epoch 27/100\n",
      "50000/50000 [==============================] - 12s 247us/sample - loss: 0.0257 - accuracy: 0.9912\n",
      "Epoch 28/100\n",
      "50000/50000 [==============================] - 12s 246us/sample - loss: 0.0249 - accuracy: 0.9918\n",
      "Epoch 29/100\n",
      "50000/50000 [==============================] - 12s 247us/sample - loss: 0.0234 - accuracy: 0.9920\n",
      "Epoch 30/100\n",
      "50000/50000 [==============================] - 12s 246us/sample - loss: 0.0212 - accuracy: 0.9930\n",
      "Epoch 31/100\n",
      "50000/50000 [==============================] - 12s 247us/sample - loss: 0.0218 - accuracy: 0.9930\n",
      "Epoch 32/100\n",
      "50000/50000 [==============================] - 12s 246us/sample - loss: 0.0204 - accuracy: 0.9931\n",
      "Epoch 33/100\n",
      "50000/50000 [==============================] - 12s 249us/sample - loss: 0.0210 - accuracy: 0.9922\n",
      "Epoch 34/100\n",
      "50000/50000 [==============================] - 12s 247us/sample - loss: 0.0214 - accuracy: 0.9929\n",
      "Epoch 35/100\n",
      "50000/50000 [==============================] - 12s 247us/sample - loss: 0.0200 - accuracy: 0.9927\n",
      "Epoch 36/100\n",
      "50000/50000 [==============================] - 12s 247us/sample - loss: 0.0192 - accuracy: 0.9932\n",
      "Epoch 37/100\n",
      "50000/50000 [==============================] - 12s 247us/sample - loss: 0.0184 - accuracy: 0.9936\n",
      "Epoch 38/100\n",
      "50000/50000 [==============================] - 12s 246us/sample - loss: 0.0188 - accuracy: 0.9937\n",
      "Epoch 39/100\n",
      "50000/50000 [==============================] - 12s 247us/sample - loss: 0.0171 - accuracy: 0.9942\n",
      "Epoch 40/100\n",
      "50000/50000 [==============================] - 12s 247us/sample - loss: 0.0169 - accuracy: 0.9946\n",
      "Epoch 41/100\n",
      "50000/50000 [==============================] - 12s 247us/sample - loss: 0.0158 - accuracy: 0.9950\n",
      "Epoch 42/100\n",
      "50000/50000 [==============================] - 12s 247us/sample - loss: 0.0154 - accuracy: 0.9947\n",
      "Epoch 43/100\n",
      "50000/50000 [==============================] - 12s 248us/sample - loss: 0.0143 - accuracy: 0.9949\n",
      "Epoch 44/100\n",
      "50000/50000 [==============================] - 13s 252us/sample - loss: 0.0171 - accuracy: 0.9940\n",
      "Epoch 45/100\n",
      "50000/50000 [==============================] - 14s 272us/sample - loss: 0.0163 - accuracy: 0.9946\n",
      "Epoch 46/100\n",
      "50000/50000 [==============================] - 14s 272us/sample - loss: 0.0157 - accuracy: 0.9948\n",
      "Epoch 47/100\n",
      "50000/50000 [==============================] - 14s 271us/sample - loss: 0.0155 - accuracy: 0.9947\n",
      "Epoch 48/100\n",
      "50000/50000 [==============================] - 13s 262us/sample - loss: 0.0145 - accuracy: 0.9952\n",
      "Epoch 49/100\n",
      "50000/50000 [==============================] - 13s 260us/sample - loss: 0.0139 - accuracy: 0.9955\n",
      "Epoch 50/100\n",
      "50000/50000 [==============================] - 13s 256us/sample - loss: 0.0135 - accuracy: 0.9956\n",
      "Epoch 51/100\n",
      "50000/50000 [==============================] - 14s 274us/sample - loss: 0.0139 - accuracy: 0.9955\n",
      "Epoch 52/100\n",
      "50000/50000 [==============================] - 14s 275us/sample - loss: 0.0131 - accuracy: 0.9954\n",
      "Epoch 53/100\n",
      "50000/50000 [==============================] - 13s 266us/sample - loss: 0.0127 - accuracy: 0.9955\n",
      "Epoch 54/100\n",
      "50000/50000 [==============================] - 13s 266us/sample - loss: 0.0132 - accuracy: 0.9954\n",
      "Epoch 55/100\n",
      "50000/50000 [==============================] - 13s 253us/sample - loss: 0.0121 - accuracy: 0.9960\n",
      "Epoch 56/100\n",
      "50000/50000 [==============================] - 13s 257us/sample - loss: 0.0119 - accuracy: 0.9962\n",
      "Epoch 57/100\n",
      "50000/50000 [==============================] - 12s 239us/sample - loss: 0.0124 - accuracy: 0.9956\n",
      "Epoch 58/100\n",
      "50000/50000 [==============================] - 12s 244us/sample - loss: 0.0111 - accuracy: 0.9965\n",
      "Epoch 59/100\n",
      "50000/50000 [==============================] - 12s 247us/sample - loss: 0.0127 - accuracy: 0.9959\n",
      "Epoch 60/100\n",
      "50000/50000 [==============================] - 12s 240us/sample - loss: 0.0114 - accuracy: 0.9959\n",
      "Epoch 61/100\n",
      "50000/50000 [==============================] - 12s 239us/sample - loss: 0.0114 - accuracy: 0.9961\n",
      "Epoch 62/100\n",
      "50000/50000 [==============================] - 12s 237us/sample - loss: 0.0112 - accuracy: 0.9962\n",
      "Epoch 63/100\n",
      "50000/50000 [==============================] - 12s 245us/sample - loss: 0.0107 - accuracy: 0.9967\n",
      "Epoch 64/100\n",
      "50000/50000 [==============================] - 12s 240us/sample - loss: 0.0111 - accuracy: 0.9963\n",
      "Epoch 65/100\n",
      "50000/50000 [==============================] - 12s 237us/sample - loss: 0.0091 - accuracy: 0.9969\n",
      "Epoch 66/100\n",
      "50000/50000 [==============================] - 12s 241us/sample - loss: 0.0100 - accuracy: 0.9965\n",
      "Epoch 67/100\n",
      "50000/50000 [==============================] - 12s 244us/sample - loss: 0.0113 - accuracy: 0.9962\n",
      "Epoch 68/100\n",
      "50000/50000 [==============================] - 12s 239us/sample - loss: 0.0096 - accuracy: 0.9966\n",
      "Epoch 69/100\n",
      "50000/50000 [==============================] - 13s 258us/sample - loss: 0.0091 - accuracy: 0.9967\n",
      "Epoch 70/100\n",
      "50000/50000 [==============================] - 13s 257us/sample - loss: 0.0092 - accuracy: 0.9969\n",
      "Epoch 71/100\n",
      "50000/50000 [==============================] - 13s 250us/sample - loss: 0.0107 - accuracy: 0.9965\n",
      "Epoch 72/100\n",
      "50000/50000 [==============================] - 12s 240us/sample - loss: 0.0094 - accuracy: 0.9969\n",
      "Epoch 73/100\n",
      "50000/50000 [==============================] - 12s 245us/sample - loss: 0.0091 - accuracy: 0.9971\n",
      "Epoch 74/100\n"
     ]
    },
    {
     "name": "stdout",
     "output_type": "stream",
     "text": [
      "50000/50000 [==============================] - 12s 244us/sample - loss: 0.0087 - accuracy: 0.9969\n",
      "Epoch 75/100\n",
      "50000/50000 [==============================] - 12s 243us/sample - loss: 0.0087 - accuracy: 0.9971\n",
      "Epoch 76/100\n",
      "50000/50000 [==============================] - 12s 243us/sample - loss: 0.0084 - accuracy: 0.9971\n",
      "Epoch 77/100\n",
      "50000/50000 [==============================] - 12s 249us/sample - loss: 0.0089 - accuracy: 0.9970\n",
      "Epoch 78/100\n",
      "50000/50000 [==============================] - 13s 254us/sample - loss: 0.0079 - accuracy: 0.9974\n",
      "Epoch 79/100\n",
      "50000/50000 [==============================] - 12s 250us/sample - loss: 0.0083 - accuracy: 0.9972\n",
      "Epoch 80/100\n",
      "50000/50000 [==============================] - 13s 257us/sample - loss: 0.0082 - accuracy: 0.9971\n",
      "Epoch 81/100\n",
      "50000/50000 [==============================] - 13s 258us/sample - loss: 0.0082 - accuracy: 0.9971\n",
      "Epoch 82/100\n",
      "50000/50000 [==============================] - 13s 254us/sample - loss: 0.0085 - accuracy: 0.9971\n",
      "Epoch 83/100\n",
      "50000/50000 [==============================] - 12s 250us/sample - loss: 0.0078 - accuracy: 0.9975\n",
      "Epoch 84/100\n",
      "50000/50000 [==============================] - 12s 249us/sample - loss: 0.0079 - accuracy: 0.9974\n",
      "Epoch 85/100\n",
      "50000/50000 [==============================] - 13s 255us/sample - loss: 0.0090 - accuracy: 0.9969\n",
      "Epoch 86/100\n",
      "50000/50000 [==============================] - 13s 262us/sample - loss: 0.0078 - accuracy: 0.9975\n",
      "Epoch 87/100\n",
      "50000/50000 [==============================] - 13s 257us/sample - loss: 0.0075 - accuracy: 0.9974\n",
      "Epoch 88/100\n",
      "50000/50000 [==============================] - 13s 259us/sample - loss: 0.0066 - accuracy: 0.9979\n",
      "Epoch 89/100\n",
      "50000/50000 [==============================] - 12s 248us/sample - loss: 0.0072 - accuracy: 0.9976\n",
      "Epoch 90/100\n",
      "50000/50000 [==============================] - 12s 241us/sample - loss: 0.0092 - accuracy: 0.9973\n",
      "Epoch 91/100\n",
      "50000/50000 [==============================] - 12s 249us/sample - loss: 0.0068 - accuracy: 0.9978\n",
      "Epoch 92/100\n",
      "50000/50000 [==============================] - 12s 246us/sample - loss: 0.0072 - accuracy: 0.9976\n",
      "Epoch 93/100\n",
      "50000/50000 [==============================] - 12s 249us/sample - loss: 0.0071 - accuracy: 0.9975\n",
      "Epoch 94/100\n",
      "50000/50000 [==============================] - 12s 245us/sample - loss: 0.0067 - accuracy: 0.9976\n",
      "Epoch 95/100\n",
      "50000/50000 [==============================] - 12s 249us/sample - loss: 0.0075 - accuracy: 0.9974\n",
      "Epoch 96/100\n",
      "50000/50000 [==============================] - 12s 238us/sample - loss: 0.0064 - accuracy: 0.9979\n",
      "Epoch 97/100\n",
      "50000/50000 [==============================] - 12s 237us/sample - loss: 0.0073 - accuracy: 0.9979\n",
      "Epoch 98/100\n",
      "50000/50000 [==============================] - 12s 237us/sample - loss: 0.0073 - accuracy: 0.9977\n",
      "Epoch 99/100\n",
      "50000/50000 [==============================] - 12s 248us/sample - loss: 0.0079 - accuracy: 0.9974\n",
      "Epoch 100/100\n",
      "50000/50000 [==============================] - 13s 253us/sample - loss: 0.0070 - accuracy: 0.9979\n"
     ]
    },
    {
     "data": {
      "text/plain": [
       "<tensorflow.python.keras.callbacks.History at 0x7f743005f8d0>"
      ]
     },
     "execution_count": 7,
     "metadata": {},
     "output_type": "execute_result"
    }
   ],
   "source": [
    "#超過兩個就要選categorical_crossentrophy\n",
    "model.compile(optimizer='rmsprop', loss='categorical_crossentropy', metrics=['accuracy'])\n",
    "model.fit(x_train, y_train, batch_size=100, epochs=100, verbose=1)"
   ]
  },
  {
   "cell_type": "markdown",
   "metadata": {},
   "source": [
    "## 預測新圖片，輸入影像前處理要與訓練時相同\n",
    "```python\n",
    "((X - mean) / (std + 1e-7))\n",
    "```\n",
    "這裡的mean跟std是訓練集的\n",
    "## 維度如下方示範\n",
    "```python\n",
    "input_example=(np.zeros(shape=(1,32,32,3))-mean_train)/(std_train+1e-7) \n",
    "classifier.predict(input_example)\n",
    "```"
   ]
  },
  {
   "cell_type": "code",
   "execution_count": 8,
   "metadata": {},
   "outputs": [
    {
     "name": "stdout",
     "output_type": "stream",
     "text": [
      "10000/10000 [==============================] - 7s 729us/sample - loss: 1.7265 - accuracy: 0.8016\n"
     ]
    },
    {
     "data": {
      "text/plain": [
       "[1.7265249532699585, 0.8016]"
      ]
     },
     "execution_count": 8,
     "metadata": {},
     "output_type": "execute_result"
    }
   ],
   "source": [
    "model.evaluate(x_test, y_test)"
   ]
  },
  {
   "cell_type": "code",
   "execution_count": null,
   "metadata": {},
   "outputs": [],
   "source": []
  }
 ],
 "metadata": {
  "kernelspec": {
   "display_name": "Python 3",
   "language": "python",
   "name": "python3"
  },
  "language_info": {
   "codemirror_mode": {
    "name": "ipython",
    "version": 3
   },
   "file_extension": ".py",
   "mimetype": "text/x-python",
   "name": "python",
   "nbconvert_exporter": "python",
   "pygments_lexer": "ipython3",
   "version": "3.6.9"
  },
  "toc": {
   "base_numbering": 1,
   "nav_menu": {},
   "number_sections": false,
   "sideBar": true,
   "skip_h1_title": false,
   "title_cell": "Table of Contents",
   "title_sidebar": "Contents",
   "toc_cell": false,
   "toc_position": {},
   "toc_section_display": true,
   "toc_window_display": false
  }
 },
 "nbformat": 4,
 "nbformat_minor": 2
}
