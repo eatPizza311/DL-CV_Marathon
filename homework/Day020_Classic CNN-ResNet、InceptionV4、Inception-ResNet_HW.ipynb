{
 "cells": [
  {
   "cell_type": "markdown",
   "metadata": {},
   "source": [
    "# 知識點\n",
    "## ResNet\n",
    "- ResNet 為 2015年 ImageNet classificatoin的冠軍，其重點在於導入了殘差結構，降低梯度消失發生的可能性。\n",
    "- ResNetV2 同樣由 Kaiming He 團隊提出，承襲 ResnetV1 的殘差概念，但在 Identity branch 與 Residual branch 上做了些許更改。<br>\n",
    "最終結構如下圖最右：\n",
    "<img src=\"https://i2.wp.com/img-blog.csdnimg.cn/20200523181526704.png?x-oss-process=image/watermark,type_ZmFuZ3poZW5naGVpdGk,shadow_10,text_aHR0cHM6Ly9ibG9nLmNzZG4ubmV0L3NpbmF0XzM0Njg2MTU4,size_16,color_FFFFFF,t_70\" width=700>\n",
    "\n",
    "可以注意到殘差區塊輸出時並沒有 ReLU，這是因為不希望限制它的輸出 (加 ReLU 就變成 $[0, \\infty)$)。\n",
    "\n",
    "\n",
    "另外 Identity branch 在 addition 之後也沒有接 BatchNormalization，這是因為 BN 層會改變 Identity branch 的訊息分佈，造成收斂速度下降。\n",
    "\n",
    "論文中也使用了 Inception Block 中 1 x 1 kernel 壓縮深度的技巧，最後再用 1 x 1 kernel回放深度，藉此降低運算。\n",
    "\n",
    "詳細請參考 [ResNetV2：ResNet深度解析](https://blog.csdn.net/lanran2/article/details/80247515)，裡面會解釋上圖的意義。\n",
    "\n",
    "原論文為 [Deep Residual Learning for Image Recognition](https://arxiv.org/abs/1512.03385) 與 [Identity Mappings in Deep Residual Networks](https://arxiv.org/abs/1603.05027)\n",
    "      \n",
    "##  InceptionV4  ＆ Inception-Resnet\n",
    "- InceptionV4 的重點在於設計了多種不同的 Inception Block\n",
    "- Inception-Resnet 的重點在於結合殘差結構，顯著加速 Inception 的訓練。\n",
    "- Inception-Resnet 像是加入殘差結構的V3、V4版本：\n",
    "    - Inception-ResNet v1 的運算量和 Inception v3 的接近。\n",
    "    - Inception-ResNet v2 的運算量和 Inception v4 的接近。\n",
    "- 其中加入殘差結構的版本收斂速度都大幅提升了許多。<br>\n",
    "  論文中也有提到，相同的參數量下加入殘差結構並不一定能提升準度，但確實能提升模型收斂速度，並且能搭建更深的網路。\n",
    "    \n",
    "架構圖可參考原論文 [Inception-v4, Inception-ResNet and the Impact of Residual Connections on Learning](https://arxiv.org/abs/1602.07261)\n",
    "\n",
    "# 延伸閱讀\n",
    "[Residual blocks — Building blocks of ResNet](https://towardsdatascience.com/residual-blocks-building-blocks-of-resnet-fd90ca15d6ec)"
   ]
  },
  {
   "cell_type": "markdown",
   "metadata": {},
   "source": [
    "## 『本次練習內容』\n",
    "#### 學習如何搭建 Residual Block\n",
    "####  學習如何搭建Inception-ResNet中的 Inception Block"
   ]
  },
  {
   "cell_type": "markdown",
   "metadata": {},
   "source": [
    "## 『本次練習目的』\n",
    "  #### 了解 Residual Block原理\n",
    "  #### 了解如何結合Inception 與 Residual概念"
   ]
  },
  {
   "cell_type": "markdown",
   "metadata": {},
   "source": [
    "---"
   ]
  },
  {
   "cell_type": "markdown",
   "metadata": {},
   "source": [
    "## Part1"
   ]
  },
  {
   "cell_type": "code",
   "execution_count": 1,
   "metadata": {},
   "outputs": [],
   "source": [
    "import numpy as np\n",
    "from tensorflow.keras import models, layers\n",
    "import tensorflow.keras.backend as K"
   ]
  },
  {
   "cell_type": "markdown",
   "metadata": {},
   "source": [
    "![Incpeiton](img/ResNet_Structure.png)"
   ]
  },
  {
   "cell_type": "markdown",
   "metadata": {},
   "source": [
    "## ResNetV1"
   ]
  },
  {
   "cell_type": "code",
   "execution_count": 2,
   "metadata": {},
   "outputs": [],
   "source": [
    "def Residual_block(input_tensor, kernel_size, filters, stage, block):\n",
    "    \"\"\"Residual block v1\"\"\"\n",
    "    filters1, filters2, filters3 = filters\n",
    "    conv_name_base = 'res' + str(stage) + block + '_branch'\n",
    "    bn_name_base = 'bn' + str(stage) + block + '_branch'\n",
    "    \n",
    "    x = layers.Conv2D(filters1, kernel_size, name=conv_name_base+'2a')(input_tensor)\n",
    "    x = layers.BatchNormalization(axis=3, name=bn_name_base+'2a')(x)\n",
    "    x = layers.Activation('relu')(x)\n",
    "    \n",
    "    x = layers.Conv2D(filters2, kernel_size, padding='same', name=conv_name_base+'2b')(x)\n",
    "    x = layers.BatchNormalization(axis=3, name=bn_name_base+'2b')(x)\n",
    "    \n",
    "    x = layers.add([x, input_tensor])\n",
    "    x = Activation('relu')(x)\n",
    "    return x"
   ]
  },
  {
   "cell_type": "markdown",
   "metadata": {},
   "source": [
    "## 參考ResNetV1 搭建 ResNetV2版本的Residual Block"
   ]
  },
  {
   "cell_type": "code",
   "execution_count": 3,
   "metadata": {},
   "outputs": [],
   "source": [
    "def Residual_block_v2(input_tensor, kernel_size, filters, stage, block):\n",
    "    filters1, filters2, filters3 = filters\n",
    "    conv_name_base = 'res' + str(stage) + block + '_branch'\n",
    "    bn_name_base = 'bn' + str(stage) + block + '_branch'\n",
    "\n",
    "    x = layers.BatchNormalization(axis=3, name=bn_name_base+'2a')(input_tensor)\n",
    "    x = layers.Activation('relu')(x)\n",
    "    x = layers.Conv2D(filters1, kernel_size, name=conv_name_base+'2a')(x)\n",
    "    \n",
    "    x = layers.BatchNormalization(axis=3, name=bn_name_base+'2b')(x)\n",
    "    x = layers.Activation('relu')(x)\n",
    "    x = layers.Conv2D(filters2, kernel_size, name=conv_name_base+'2b')(x)\n",
    "    \n",
    "    x = layers.add([x, input_tensor])\n",
    "    return x"
   ]
  },
  {
   "cell_type": "markdown",
   "metadata": {},
   "source": [
    "## 試試看自己設計一個先壓縮再回放的V2 Block"
   ]
  },
  {
   "cell_type": "code",
   "execution_count": 4,
   "metadata": {},
   "outputs": [],
   "source": [
    "def Residual_block_v2(input_tensor, kernel_size, stage, block, reduce=96, ouput_size=128):\n",
    "    conv_name_base = 'res' + str(stage) + block + '_branch'\n",
    "    bn_name_base = 'bn' + str(stage) + block + '_branch'\n",
    "    \n",
    "    x = layers.Conv2D(reduce, (1, 1), name=conv_name_base+'2a')(input_tensor)\n",
    "    \n",
    "    x = layers.BatchNormalization(axis=3, name=bn_name_base+'2b')(input_tensor)\n",
    "    x = layers.Activation('relu')(x)\n",
    "    x = layers.Conv2D(64, kernel_size, name=conv_name_base+'2b')(x)\n",
    "    \n",
    "    x = layers.BatchNormalization(axis=3, name=bn_name_base+'2c')(input_tensor)\n",
    "    x = layers.Activation('relu')(x)\n",
    "    x = layers.Conv2D(128, kernel_size, name=conv_name_base+'2c')(x)    \n",
    "    \n",
    "    x = layers.Conv2D(output_size, (1, 1), name=conv_name_base+'2d')(x)\n",
    "    \n",
    "    x = layers.add([x, input_tensor])\n",
    "    return x"
   ]
  },
  {
   "cell_type": "markdown",
   "metadata": {},
   "source": [
    "---"
   ]
  },
  {
   "cell_type": "markdown",
   "metadata": {},
   "source": [
    "## Part2"
   ]
  },
  {
   "cell_type": "markdown",
   "metadata": {
    "colab_type": "text",
    "id": "tfa8Vx5iJbZU"
   },
   "source": [
    "## Incpetion Block-A"
   ]
  },
  {
   "cell_type": "markdown",
   "metadata": {
    "colab_type": "text",
    "id": "xbuyi79mJbZX"
   },
   "source": [
    "![Incpeiton](img/Inception-ResNet-A.png)"
   ]
  },
  {
   "cell_type": "markdown",
   "metadata": {
    "colab_type": "text",
    "id": "3GI24k24JbZa"
   },
   "source": [
    "## Incpetion Block-B"
   ]
  },
  {
   "cell_type": "markdown",
   "metadata": {
    "colab_type": "text",
    "id": "Ge28e58BJbZd"
   },
   "source": [
    "![Incpeiton](img/Inception-ResNet-B.png)"
   ]
  },
  {
   "cell_type": "markdown",
   "metadata": {
    "colab_type": "text",
    "id": "aMz1WNBsJbZg"
   },
   "source": [
    "## Incpetion Block-C"
   ]
  },
  {
   "cell_type": "markdown",
   "metadata": {
    "colab_type": "text",
    "id": "A4lY1HV6JbZj"
   },
   "source": [
    "![Incpeiton](img/Inception-ResNet-C.png)"
   ]
  },
  {
   "cell_type": "code",
   "execution_count": 5,
   "metadata": {
    "colab": {},
    "colab_type": "code",
    "id": "t9IKAa_4JbZ1"
   },
   "outputs": [],
   "source": [
    "def Conv2d_bn(x,filters,kernel_size,padding='same',strides=(1, 1),normalizer=True,activation='relu',name=None):\n",
    "    if name is not None:\n",
    "        conv_name = name + '_conv'\n",
    "        bn_name = name + '_bn'\n",
    "        act_name = name + '_act'\n",
    "    else:\n",
    "        conv_name = None\n",
    "        bn_name = None\n",
    "        act_name = None\n",
    "    if K.image_data_format() == 'channels_first':\n",
    "        bn_axis = 1\n",
    "    else:\n",
    "        bn_axis = 3\n",
    "    x = layers.Conv2D(\n",
    "        filters, kernel_size,\n",
    "        strides=strides, padding=padding,\n",
    "        use_bias=False, name=conv_name)(x)\n",
    "    if normalizer:\n",
    "        x = layers.BatchNormalization(axis=bn_axis, scale=False, name=bn_name)(x)\n",
    "    if activation:\n",
    "        x = layers.Activation(activation, name=act_name)(x)\n",
    "    return x"
   ]
  },
  {
   "cell_type": "code",
   "execution_count": 6,
   "metadata": {
    "colab": {},
    "colab_type": "code",
    "id": "d7iVPJQkJbZ-"
   },
   "outputs": [],
   "source": [
    "def Residual_block(input_tensor, kernel_size, filters, stage, block):\n",
    "    filters1, filters2, filters3 = filters\n",
    "    conv_name_base = 'res' + str(stage) + block + '_branch'\n",
    "    bn_name_base = 'bn' + str(stage) + block + '_branch'\n",
    "\n",
    "    x = Conv2D(filters1, (1, 1), name=conv_name_base + '2a')(input_tensor)\n",
    "    x = BatchNormalization(axis=3, name=bn_name_base + '2a')(x)\n",
    "    x = Activation('relu')(x)\n",
    "\n",
    "    x = Conv2D(filters2, kernel_size,\n",
    "               padding='same', name=conv_name_base + '2b')(x)\n",
    "    x = BatchNormalization(axis=3, name=bn_name_base + '2b')(x)\n",
    "    x = Activation('relu')(x)\n",
    "\n",
    "    x = Conv2D(filters3, (1, 1), name=conv_name_base + '2c')(x)\n",
    "    x = BatchNormalization(axis=3, name=bn_name_base + '2c')(x)\n",
    "\n",
    "    x = layers.add([x, input_tensor])\n",
    "    x = Activation('relu')(x)\n",
    "    return x"
   ]
  },
  {
   "cell_type": "markdown",
   "metadata": {
    "colab_type": "text",
    "id": "M0BEkO7VJbaI"
   },
   "source": [
    "## 參考上方Residual_block搭建 Inception-ResNet中的Inception Block"
   ]
  },
  {
   "cell_type": "code",
   "execution_count": 7,
   "metadata": {
    "colab": {},
    "colab_type": "code",
    "id": "XJjxq9lWJbaN"
   },
   "outputs": [],
   "source": [
    "def inception_resnet_block(x, scale, block_type, activation='relu'):\n",
    "    '''scale: scaling factor to scale the residuals (i.e., the output of\n",
    "            passing `x` through an inception module) before adding them\n",
    "            to the shortcut branch. Let `r` be the output from the residual branch,\n",
    "            the output of this block will be `x + scale * r`.(簡單來說就是控制Residual branch的比例)'''\n",
    "    if block_type == 'Incpetion_Block-A':\n",
    "        branch_0 = layers.Conv2D(32, (1, 1), padding='same')(x)\n",
    "        branch_1 = layers.Conv2D(32, (1, 1), padding='same')(x)\n",
    "        branch_1 = layers.Conv2D(32, (3, 3), padding='same')(branch_1)\n",
    "        branch_2 = layers.Conv2D(32, (1, 1), padding='same')(x)\n",
    "        branch_2 = layers.Conv2D(48, (3, 3), padding='same')(branch_2)\n",
    "        branch_2 = layers.Conv2D(64, (3, 3), padding='same')(branch_2)\n",
    "        branches = [branch_0, branch_1, branch_2]\n",
    "    elif block_type == 'Incpetion_Block-B':\n",
    "        branch_0 = layers.Conv2D(192, (1, 1), padding='same')(x)\n",
    "        branch_1 = layers.Conv2D(128, (1, 1), padding='same')(x)\n",
    "        branch_1 = layers.Conv2D(160, (1, 7), padding='same')(branch_1)\n",
    "        branch_1 = layers.Conv2D(192, (7, 1), padding='same')(branch_1)\n",
    "        branches = [branch_0, branch_1]\n",
    "    elif block_type == 'Incpetion_Block-C':\n",
    "        branch_0 = layers.Conv2D(192, (1, 1), padding='same')(x)\n",
    "        branch_1 = layers.Conv2D(192, (1, 1), padding='same')(x)\n",
    "        branch_1 = layers.Conv2D(224, (1, 3), padding='same')(branch_1) \n",
    "        branch_1 = layers.Conv2D(256, (3, 1), padding='same')(branch_1) \n",
    "        branches = [branch_0, branch_1]\n",
    "    else:\n",
    "        raise ValueError('Unknown Inception-ResNet block type. '\n",
    "                         'Expects \"block35\", \"block17\" or \"block8\", '\n",
    "                         'but got: ' + str(block_type))\n",
    "    mixed = layers.Concatenate(axis=3)(branches)\n",
    "    \n",
    "    '''確保輸入跟輸出深度相同'''\n",
    "    up = Conv2d_bn(mixed, K.int_shape(x)[3], 1, activation=None)\n",
    "    \n",
    "    '''導入殘差結構，並給予權重'''\n",
    "    x = layers.Lambda(lambda inputs, scale: inputs[0] + inputs[1] * scale, ##提示inputs[0]、inputs[1]\n",
    "                      output_shape=K.int_shape(x)[1:],\n",
    "                      arguments={'scale': scale},)([x,up])\n",
    "    \n",
    "    if activation is not None:\n",
    "        x = layers.Activation(activation)(x)\n",
    "    return x\n"
   ]
  },
  {
   "cell_type": "code",
   "execution_count": 8,
   "metadata": {
    "colab": {},
    "colab_type": "code",
    "id": "wv-ni8GpJbaU",
    "outputId": "dcf7198f-59a6-4eac-d912-565146b1ce16"
   },
   "outputs": [
    {
     "name": "stdout",
     "output_type": "stream",
     "text": [
      "Tensor(\"activation/Identity:0\", shape=(None, 224, 224, 32), dtype=float32)\n"
     ]
    }
   ],
   "source": [
    "img_input = layers.Input(shape=(224,224,32))\n",
    "x = inception_resnet_block(img_input, 0.1, 'Incpetion_Block-A', activation='relu')\n",
    "print(x)"
   ]
  },
  {
   "cell_type": "markdown",
   "metadata": {
    "colab_type": "text",
    "id": "HOBuOAjOJbab"
   },
   "source": [
    "## 測試"
   ]
  },
  {
   "cell_type": "code",
   "execution_count": 9,
   "metadata": {
    "colab": {},
    "colab_type": "code",
    "id": "T-igNjppJbad",
    "outputId": "0455b644-5456-4145-d719-3878348aa4cb"
   },
   "outputs": [
    {
     "name": "stdout",
     "output_type": "stream",
     "text": [
      "Tensor(\"activation_1/Identity:0\", shape=(None, 224, 224, 32), dtype=float32)\n"
     ]
    }
   ],
   "source": [
    "img_input = layers.Input(shape=(224,224,32))\n",
    "x = inception_resnet_block(img_input, 0.1, 'Incpetion_Block-A', activation='relu')\n",
    "print(x)"
   ]
  },
  {
   "cell_type": "code",
   "execution_count": 10,
   "metadata": {
    "colab": {},
    "colab_type": "code",
    "id": "V7otKKZWJbah",
    "outputId": "bca7b98f-b8ab-4318-d884-77c8ee7c7fa8"
   },
   "outputs": [
    {
     "name": "stdout",
     "output_type": "stream",
     "text": [
      "Tensor(\"activation_2/Identity:0\", shape=(None, 224, 224, 32), dtype=float32)\n"
     ]
    }
   ],
   "source": [
    "img_input = layers.Input(shape=(224,224,32))\n",
    "x = inception_resnet_block(img_input, 0.1, 'Incpetion_Block-B', activation='relu')\n",
    "print(x)"
   ]
  },
  {
   "cell_type": "code",
   "execution_count": 11,
   "metadata": {
    "colab": {},
    "colab_type": "code",
    "id": "RjxCkTlHJbal",
    "outputId": "462b602c-2a47-4790-eff4-13c875aba275"
   },
   "outputs": [
    {
     "name": "stdout",
     "output_type": "stream",
     "text": [
      "Tensor(\"activation_3/Identity:0\", shape=(None, 224, 224, 32), dtype=float32)\n"
     ]
    }
   ],
   "source": [
    "img_input = layers.Input(shape=(224,224,32))\n",
    "x = inception_resnet_block(img_input, 0.1, 'Incpetion_Block-C', activation='relu')\n",
    "print(x)"
   ]
  }
 ],
 "metadata": {
  "colab": {
   "name": "Classic CNN-ResNet、InceptionV4、Inception-ResNet作業.ipynb",
   "provenance": []
  },
  "kernelspec": {
   "display_name": "Python 3",
   "language": "python",
   "name": "python3"
  },
  "language_info": {
   "codemirror_mode": {
    "name": "ipython",
    "version": 3
   },
   "file_extension": ".py",
   "mimetype": "text/x-python",
   "name": "python",
   "nbconvert_exporter": "python",
   "pygments_lexer": "ipython3",
   "version": "3.6.9"
  }
 },
 "nbformat": 4,
 "nbformat_minor": 1
}
