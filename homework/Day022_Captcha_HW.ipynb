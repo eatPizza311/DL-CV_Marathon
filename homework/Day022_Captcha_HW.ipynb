{
 "cells": [
  {
   "cell_type": "markdown",
   "metadata": {},
   "source": [
    "# 知識點\n",
    "- 本次實作的驗證碼識別方法也可以用來做街景門牌識別、車牌識別與文字 OCR。\n",
    "\n",
    "- 類似的問題最困難的點在於：\n",
    "    1. 字串長度不固定\n",
    "    2. 字與字之間寬度不同，無法切開成單一字符辨識\n",
    "  \n",
    "  因此解題的想法就是強迫 CNN 沿著 X 軸來學習資訊，舉例來說，有一個 64x128 的影像，假設輸出寬度為 16 (看CNN設計)，我們可以想像成在寬度上，每 8 個 pixels 的資訊照順序被壓再一起，因此我們就是預測這 16 個影像區，每個影像區內應該是什麼字符，若把這 16 個影像區看成是 16 個時間點，將CNN 的輸出特徵圖當作時間序模型(RNN)的輸入，這就構成了經典的 [CRNN](https://arxiv.org/abs/1507.05717) 模型。\n",
    "  \n",
    "  \n",
    "- 然而全部字串可能不到16個字，這個時候就是使用 CTC Loss (Connectionist temporal classification) 的好時機。\n",
    "\n",
    "- CTC Loss 一開始是用於預測語音資料，在 CRNN 這篇文獻中正式被用來處理文字序列，其主要適用於『不定長度序列』的問題：\n",
    "    - CTC Loss 透過『填空』來區分不同字符，它假設不同字符間一定有一個空格。\n",
    "    - 它會建一個『空格』類別，並透過『空格』與『重複字符』來處理不定字串的問題。\n",
    "    - 當『重複字符』之間沒有空格時，代表該區只有一個字符，『空格』與『重複字符』數沒有一定，主要靠CTC Loss本身去優化。\n",
    "    - 原圖切出來的格數最好大於『2倍的字串長＋1」，這主要是由於 CTC Loss 的假設是不同字符間至少有一個空格，並且開頭結束也是空格。<br>\n",
    "    所以假如我們的驗證碼有長度 4,5,6，那影像過完 CNN 後寬度最好大於 6*2+1= 13。\n",
    "    - 除了上述步驟外，CRNN作者還將圖像高度壓成1，可以想像成將x軸一定範圍內的資訊都壓在一起，舉個例子來說，假如輸入影像是(Batch size,64,128,3)，其在輸出時就變為(Batch size ,1,16,channel深度)，其中16(寬度)跟channel深度都是我們可以控制的。\n",
    "    \n",
    "# 延伸閱讀\n",
    "[解讀CTC LOSS原理](https://www.itread01.com/content/1544337968.html)\n",
    "\n",
    "[An Intuitive Explanation of Connectionist Temporal Classification](https://towardsdatascience.com/intuitively-understanding-connectionist-temporal-classification-3797e43a86c)\n",
    "    \n",
    "\n",
    "# 『本次練習內容』\n",
    "#### 搭建一個能識別驗證碼的模型(CNN+CTC)\n",
    "\n",
    "## 『本次練習目的』\n",
    "  #### 了解如何結合CNN與CTC Loss\n",
    "  #### 有時間學員也可以延伸閱讀CNN+RNN+CTC模型"
   ]
  },
  {
   "cell_type": "markdown",
   "metadata": {},
   "source": [
    "## 記得先 pip install captcha"
   ]
  },
  {
   "cell_type": "code",
   "execution_count": 1,
   "metadata": {
    "colab": {
     "base_uri": "https://localhost:8080/",
     "height": 136
    },
    "colab_type": "code",
    "id": "AxGi02yvx1Go",
    "outputId": "e7bf7eb2-6699-441b-d724-6b5635ffa2bc"
   },
   "outputs": [
    {
     "name": "stdout",
     "output_type": "stream",
     "text": [
      "Requirement already satisfied: captcha in /usr/local/lib/python3.6/dist-packages (0.3)\n",
      "Requirement already satisfied: Pillow in /usr/local/lib/python3.6/dist-packages (from captcha) (7.2.0)\n",
      "\u001b[33mWARNING: You are using pip version 20.2.3; however, version 20.2.4 is available.\n",
      "You should consider upgrading via the '/usr/bin/python3 -m pip install --upgrade pip' command.\u001b[0m\n"
     ]
    }
   ],
   "source": [
    "!pip install captcha"
   ]
  },
  {
   "cell_type": "markdown",
   "metadata": {},
   "source": [
    "## 產生驗證碼"
   ]
  },
  {
   "cell_type": "code",
   "execution_count": 2,
   "metadata": {},
   "outputs": [
    {
     "name": "stdout",
     "output_type": "stream",
     "text": [
      "0123456789ABCDEFGHIJKLMNOPQRSTUVWXYZ\n"
     ]
    }
   ],
   "source": [
    "import random\n",
    "import string\n",
    "\n",
    "from captcha.image import ImageCaptcha\n",
    "import matplotlib.pyplot as plt\n",
    "import numpy as np\n",
    "from tensorflow import keras\n",
    "import tensorflow.keras.backend as K\n",
    "\n",
    "%matplotlib inline\n",
    "%config InlineBackend.figure_format = 'retina'\n",
    "\n",
    "# 驗證碼包含0~10數字以及26個英文字母\n",
    "characters = string.digits + string.ascii_uppercase\n",
    "print(characters)"
   ]
  },
  {
   "cell_type": "code",
   "execution_count": 3,
   "metadata": {},
   "outputs": [
    {
     "data": {
      "image/png": "[encoded data removed]",
      "text/plain": [
       "<Figure size 432x288 with 1 Axes>"
      ]
     },
     "metadata": {
      "image/png": {
       "height": 187,
       "width": 349
      },
      "needs_background": "light"
     },
     "output_type": "display_data"
    }
   ],
   "source": [
    "# 設定產生圖片的尺寸以及總類別, 其中 n_class+1 是為了留位置給 Blank\n",
    "width, height, n_len, n_class = 170, 80, 4, len(characters)+1\n",
    "\n",
    "# 設定產生驗證碼的generator\n",
    "generator = ImageCaptcha(width=width, height=height)\n",
    "\n",
    "# 先練習長度固定為四個字的驗證碼\n",
    "random_str = ''.join([random.choice(characters) for j in range(4)])\n",
    "img = generator.generate_image(random_str)\n",
    "\n",
    "plt.imshow(img)\n",
    "plt.title(random_str)\n",
    "plt.axis('off');"
   ]
  },
  {
   "cell_type": "markdown",
   "metadata": {},
   "source": [
    "## 自己搭建一個CNN模型使得output feature Map 高度被壓縮成小於4，8<寬度<20\n",
    "#### 解答的output feature Map 為 (batch_size,1,13,32)"
   ]
  },
  {
   "cell_type": "code",
   "execution_count": 4,
   "metadata": {},
   "outputs": [],
   "source": [
    "# CTC loss 需要 4 個資訊, Label, 預測, CNN輸出寬度, 預測影像所包含的文字長度\n",
    "def ctc_lambda_func(args):\n",
    "    y_pred, labels, input_length, label_length = args\n",
    "    return K.ctc_batch_cost(labels, y_pred, input_length, label_length)"
   ]
  },
  {
   "cell_type": "markdown",
   "metadata": {},
   "source": [
    "> keras.backend.ctc_batch_cost 與 tf.nn.ctc_loss 差別請參考 https://www.pythonf.cn/read/33377"
   ]
  },
  {
   "cell_type": "code",
   "execution_count": 5,
   "metadata": {},
   "outputs": [],
   "source": [
    "rnn_size = 128\n",
    "\n",
    "input_tensor = keras.layers.Input((height, width, 3))\n",
    "x = keras.layers.Conv2D(32, (3, 3), activation='relu')(input_tensor)\n",
    "x = keras.layers.BatchNormalization()(x)\n",
    "x = keras.layers.Conv2D(32, (3, 3), activation='relu')(x)\n",
    "x = keras.layers.BatchNormalization()(x)\n",
    "x = keras.layers.MaxPool2D()(x)\n",
    "x = keras.layers.Conv2D(32, (3, 3), activation='relu')(x)\n",
    "x = keras.layers.BatchNormalization()(x)\n",
    "x = keras.layers.Conv2D(32, (3, 3), activation='relu')(x)\n",
    "x = keras.layers.BatchNormalization()(x)\n",
    "x = keras.layers.MaxPool2D()(x)\n",
    "x = keras.layers.Conv2D(32, (3, 3), activation='relu')(x)\n",
    "x = keras.layers.BatchNormalization()(x)\n",
    "x = keras.layers.Conv2D(32, (3, 3), activation='relu')(x)\n",
    "x = keras.layers.BatchNormalization()(x)\n",
    "x = keras.layers.MaxPool2D()(x)\n",
    "x = keras.layers.Conv2D(32, (3, 3), activation='relu')(x)\n",
    "x = keras.layers.BatchNormalization()(x)\n",
    "x = keras.layers.Conv2D(32, (3, 3), activation='relu')(x)\n",
    "x = keras.layers.BatchNormalization()(x)\n",
    "x = keras.layers.MaxPool2D((2, 1))(x)\n",
    "\n",
    "# 紀錄CNN輸出的尺寸以供loss部份使用\n",
    "conv_shape = x.get_shape()\n",
    "\n",
    "# 從(Batch_size, 輸出高度, 輸出寬度, 輸出深度)變成(Batch_size, 輸出寬度, 輸出深度*輸出高度)，以符合ctc loss需求\n",
    "x = keras.layers.Reshape(target_shape=(int(conv_shape[2]), int(conv_shape[1]*conv_shape[3])))(x)\n",
    "\n",
    "x = keras.layers.Dense(32, activation='relu')(x)\n",
    "x = keras.layers.Dropout(0.25)(x)\n",
    "x = keras.layers.Dense(n_class, activation='softmax')(x)\n",
    "\n",
    "# 包裝用來預測的model\n",
    "base_model = keras.Model(inputs=input_tensor, outputs=x)\n",
    "\n",
    "\n",
    "# 設定要給 CTC Loss 的資訊\n",
    "labels = keras.layers.Input(name='the_labels', shape=[n_len], dtype='float32')\n",
    "input_length = keras.layers.Input(name='input_length', shape=[1], dtype='int64')\n",
    "label_length = keras.layers.Input(name='label_length', shape=[1], dtype='int64')\n",
    "loss_out = keras.layers.Lambda(ctc_lambda_func, output_shape=(1, ), \n",
    "                               name='ctc')([x, labels, input_length, label_length])\n",
    "# 這個 model 是用來計算 loss 的\n",
    "model = keras.Model(inputs=[input_tensor, labels, input_length, label_length], outputs=[loss_out])\n",
    "# 之所以要 lambda y_true, y_pred: y_pred 是因為我們的loss已經包在網路裡，會 output:y_true, y_pred，而我們只需要y_pred\n",
    "model.compile(loss={'ctc': lambda y_true, y_pred: y_pred}, optimizer='SGD')"
   ]
  },
  {
   "cell_type": "code",
   "execution_count": 6,
   "metadata": {
    "colab": {
     "base_uri": "https://localhost:8080/",
     "height": 1000
    },
    "colab_type": "code",
    "id": "m1YRv0TVN_FL",
    "outputId": "c5b995c5-43b0-481b-8cd1-0fd5f85e4f03",
    "scrolled": true
   },
   "outputs": [
    {
     "name": "stdout",
     "output_type": "stream",
     "text": [
      "Model: \"model_1\"\n",
      "__________________________________________________________________________________________________\n",
      "Layer (type)                    Output Shape         Param #     Connected to                     \n",
      "==================================================================================================\n",
      "input_1 (InputLayer)            [(None, 80, 170, 3)] 0                                            \n",
      "__________________________________________________________________________________________________\n",
      "conv2d (Conv2D)                 (None, 78, 168, 32)  896         input_1[0][0]                    \n",
      "__________________________________________________________________________________________________\n",
      "batch_normalization (BatchNorma (None, 78, 168, 32)  128         conv2d[0][0]                     \n",
      "__________________________________________________________________________________________________\n",
      "conv2d_1 (Conv2D)               (None, 76, 166, 32)  9248        batch_normalization[0][0]        \n",
      "__________________________________________________________________________________________________\n",
      "batch_normalization_1 (BatchNor (None, 76, 166, 32)  128         conv2d_1[0][0]                   \n",
      "__________________________________________________________________________________________________\n",
      "max_pooling2d (MaxPooling2D)    (None, 38, 83, 32)   0           batch_normalization_1[0][0]      \n",
      "__________________________________________________________________________________________________\n",
      "conv2d_2 (Conv2D)               (None, 36, 81, 32)   9248        max_pooling2d[0][0]              \n",
      "__________________________________________________________________________________________________\n",
      "batch_normalization_2 (BatchNor (None, 36, 81, 32)   128         conv2d_2[0][0]                   \n",
      "__________________________________________________________________________________________________\n",
      "conv2d_3 (Conv2D)               (None, 34, 79, 32)   9248        batch_normalization_2[0][0]      \n",
      "__________________________________________________________________________________________________\n",
      "batch_normalization_3 (BatchNor (None, 34, 79, 32)   128         conv2d_3[0][0]                   \n",
      "__________________________________________________________________________________________________\n",
      "max_pooling2d_1 (MaxPooling2D)  (None, 17, 39, 32)   0           batch_normalization_3[0][0]      \n",
      "__________________________________________________________________________________________________\n",
      "conv2d_4 (Conv2D)               (None, 15, 37, 32)   9248        max_pooling2d_1[0][0]            \n",
      "__________________________________________________________________________________________________\n",
      "batch_normalization_4 (BatchNor (None, 15, 37, 32)   128         conv2d_4[0][0]                   \n",
      "__________________________________________________________________________________________________\n",
      "conv2d_5 (Conv2D)               (None, 13, 35, 32)   9248        batch_normalization_4[0][0]      \n",
      "__________________________________________________________________________________________________\n",
      "batch_normalization_5 (BatchNor (None, 13, 35, 32)   128         conv2d_5[0][0]                   \n",
      "__________________________________________________________________________________________________\n",
      "max_pooling2d_2 (MaxPooling2D)  (None, 6, 17, 32)    0           batch_normalization_5[0][0]      \n",
      "__________________________________________________________________________________________________\n",
      "conv2d_6 (Conv2D)               (None, 4, 15, 32)    9248        max_pooling2d_2[0][0]            \n",
      "__________________________________________________________________________________________________\n",
      "batch_normalization_6 (BatchNor (None, 4, 15, 32)    128         conv2d_6[0][0]                   \n",
      "__________________________________________________________________________________________________\n",
      "conv2d_7 (Conv2D)               (None, 2, 13, 32)    9248        batch_normalization_6[0][0]      \n",
      "__________________________________________________________________________________________________\n",
      "batch_normalization_7 (BatchNor (None, 2, 13, 32)    128         conv2d_7[0][0]                   \n",
      "__________________________________________________________________________________________________\n",
      "max_pooling2d_3 (MaxPooling2D)  (None, 1, 13, 32)    0           batch_normalization_7[0][0]      \n",
      "__________________________________________________________________________________________________\n",
      "reshape (Reshape)               (None, 13, 32)       0           max_pooling2d_3[0][0]            \n",
      "__________________________________________________________________________________________________\n",
      "dense (Dense)                   (None, 13, 32)       1056        reshape[0][0]                    \n",
      "__________________________________________________________________________________________________\n",
      "dropout (Dropout)               (None, 13, 32)       0           dense[0][0]                      \n",
      "__________________________________________________________________________________________________\n",
      "dense_1 (Dense)                 (None, 13, 37)       1221        dropout[0][0]                    \n",
      "__________________________________________________________________________________________________\n",
      "the_labels (InputLayer)         [(None, 4)]          0                                            \n",
      "__________________________________________________________________________________________________\n",
      "input_length (InputLayer)       [(None, 1)]          0                                            \n",
      "__________________________________________________________________________________________________\n",
      "label_length (InputLayer)       [(None, 1)]          0                                            \n",
      "__________________________________________________________________________________________________\n",
      "ctc (Lambda)                    (None, 1)            0           dense_1[0][0]                    \n",
      "                                                                 the_labels[0][0]                 \n",
      "                                                                 input_length[0][0]               \n",
      "                                                                 label_length[0][0]               \n",
      "==================================================================================================\n",
      "Total params: 68,933\n",
      "Trainable params: 68,421\n",
      "Non-trainable params: 512\n",
      "__________________________________________________________________________________________________\n"
     ]
    }
   ],
   "source": [
    "model.summary()"
   ]
  },
  {
   "cell_type": "code",
   "execution_count": 7,
   "metadata": {},
   "outputs": [],
   "source": [
    "# 設計generator產生training data\n",
    "# 產生包含要給loss的資訊\n",
    "# X=輸入影像\n",
    "# np.ones(batch_size)*int(conv_shape[2]) = CNN輸出feature Map寬度\n",
    "# np.ones(batch_size)*n_len = 字串長度(可浮動)\n",
    "def gen(batch_size=128):\n",
    "    X = np.zeros((batch_size, height, width, 3), dtype=np.uint8)\n",
    "    y = np.zeros((batch_size, n_len), dtype=np.uint8)\n",
    "    while True:\n",
    "        generator = ImageCaptcha(width=width, height=height)\n",
    "        for i in range(batch_size):\n",
    "            random_str = ''.join([random.choice(characters) for j in range(4)])\n",
    "            X[i] = np.array(generator.generate_image(random_str))\n",
    "            y[i] = [characters.find(x) for x in random_str]\n",
    "        yield [X, y, np.ones(batch_size)*int(conv_shape[2]), np.ones(batch_size)*n_len], np.ones(batch_size)"
   ]
  },
  {
   "cell_type": "code",
   "execution_count": 8,
   "metadata": {},
   "outputs": [
    {
     "name": "stdout",
     "output_type": "stream",
     "text": [
      "Label:  [[13 34 31 28]]\n",
      "CNN輸出寬度:  [13.]\n",
      "字串長度(可浮動):  [4.]\n"
     ]
    },
    {
     "data": {
      "image/png": "[encoded data removed]",
      "text/plain": [
       "<Figure size 432x288 with 1 Axes>"
      ]
     },
     "metadata": {
      "image/png": {
       "height": 191,
       "width": 369
      },
      "needs_background": "light"
     },
     "output_type": "display_data"
    }
   ],
   "source": [
    "next_ge = gen(batch_size=1)\n",
    "test_ge = next(next_ge)\n",
    "plt.imshow(test_ge[0][0][0])\n",
    "print('Label: ',test_ge[0][1])\n",
    "print('CNN輸出寬度: ',test_ge[0][2])\n",
    "print('字串長度(可浮動): ',test_ge[0][3])"
   ]
  },
  {
   "cell_type": "markdown",
   "metadata": {},
   "source": [
    "## 開始訓練"
   ]
  },
  {
   "cell_type": "code",
   "execution_count": 9,
   "metadata": {
    "colab": {
     "base_uri": "https://localhost:8080/",
     "height": 1000
    },
    "colab_type": "code",
    "id": "fqdKnqollUKj",
    "outputId": "3da34151-a9df-4287-ead6-50c414d30e65"
   },
   "outputs": [
    {
     "name": "stdout",
     "output_type": "stream",
     "text": [
      "WARNING:tensorflow:sample_weight modes were coerced from\n",
      "  ...\n",
      "    to  \n",
      "  ['...']\n",
      "Train for 300 steps\n",
      "Epoch 1/60\n",
      "300/300 [==============================] - 38s 126ms/step - loss: 15.5424\n",
      "Epoch 2/60\n",
      "300/300 [==============================] - 38s 125ms/step - loss: 12.2941\n",
      "Epoch 3/60\n",
      "300/300 [==============================] - 37s 123ms/step - loss: 8.5202\n",
      "Epoch 4/60\n",
      "300/300 [==============================] - 37s 124ms/step - loss: 6.3712\n",
      "Epoch 5/60\n",
      "300/300 [==============================] - 37s 122ms/step - loss: 5.1755\n",
      "Epoch 6/60\n",
      "300/300 [==============================] - 37s 123ms/step - loss: 4.4185\n",
      "Epoch 7/60\n",
      "300/300 [==============================] - 37s 122ms/step - loss: 4.0204\n",
      "Epoch 8/60\n",
      "300/300 [==============================] - 37s 122ms/step - loss: 3.6775\n",
      "Epoch 9/60\n",
      "300/300 [==============================] - 37s 122ms/step - loss: 3.4580\n",
      "Epoch 10/60\n",
      "300/300 [==============================] - 37s 122ms/step - loss: 3.2517\n",
      "Epoch 11/60\n",
      "300/300 [==============================] - 37s 123ms/step - loss: 3.1816\n",
      "Epoch 12/60\n",
      "300/300 [==============================] - 37s 122ms/step - loss: 3.0711\n",
      "Epoch 13/60\n",
      "300/300 [==============================] - 37s 123ms/step - loss: 2.9245\n",
      "Epoch 14/60\n",
      "300/300 [==============================] - 38s 125ms/step - loss: 2.9563\n",
      "Epoch 15/60\n",
      "300/300 [==============================] - 36s 122ms/step - loss: 2.7927\n",
      "Epoch 16/60\n",
      "300/300 [==============================] - 37s 122ms/step - loss: 2.7480\n",
      "Epoch 17/60\n",
      "300/300 [==============================] - 36s 122ms/step - loss: 2.6928\n",
      "Epoch 18/60\n",
      "300/300 [==============================] - 36s 121ms/step - loss: 2.6315\n",
      "Epoch 19/60\n",
      "300/300 [==============================] - 36s 121ms/step - loss: 2.6019\n",
      "Epoch 20/60\n",
      "300/300 [==============================] - 37s 122ms/step - loss: 2.5123\n",
      "Epoch 21/60\n",
      "300/300 [==============================] - 36s 121ms/step - loss: 2.5531\n",
      "Epoch 22/60\n",
      "300/300 [==============================] - 36s 121ms/step - loss: 2.4529\n",
      "Epoch 23/60\n",
      "300/300 [==============================] - 36s 121ms/step - loss: 2.4289\n",
      "Epoch 24/60\n",
      "300/300 [==============================] - 36s 121ms/step - loss: 2.4405\n",
      "Epoch 25/60\n",
      "300/300 [==============================] - 36s 121ms/step - loss: 2.3604\n",
      "Epoch 26/60\n",
      "300/300 [==============================] - 36s 121ms/step - loss: 2.3062\n",
      "Epoch 27/60\n",
      "300/300 [==============================] - 36s 121ms/step - loss: 2.3216\n",
      "Epoch 28/60\n",
      "300/300 [==============================] - 36s 121ms/step - loss: 2.2499\n",
      "Epoch 29/60\n",
      "300/300 [==============================] - 37s 122ms/step - loss: 2.2171\n",
      "Epoch 30/60\n",
      "300/300 [==============================] - 36s 121ms/step - loss: 2.2318\n",
      "Epoch 31/60\n",
      "300/300 [==============================] - 36s 121ms/step - loss: 2.2101\n",
      "Epoch 32/60\n",
      "300/300 [==============================] - 36s 121ms/step - loss: 2.1295\n",
      "Epoch 33/60\n",
      "300/300 [==============================] - 36s 122ms/step - loss: 2.0894\n",
      "Epoch 34/60\n",
      "300/300 [==============================] - 36s 121ms/step - loss: 2.0732\n",
      "Epoch 35/60\n",
      "300/300 [==============================] - 36s 122ms/step - loss: 2.0762\n",
      "Epoch 36/60\n",
      "300/300 [==============================] - 36s 121ms/step - loss: 2.0434\n",
      "Epoch 37/60\n",
      "300/300 [==============================] - 37s 122ms/step - loss: 1.9623\n",
      "Epoch 38/60\n",
      "300/300 [==============================] - 36s 121ms/step - loss: 1.9860\n",
      "Epoch 39/60\n",
      "300/300 [==============================] - 36s 121ms/step - loss: 1.9164\n",
      "Epoch 40/60\n",
      "300/300 [==============================] - 36s 122ms/step - loss: 1.9359\n",
      "Epoch 41/60\n",
      "300/300 [==============================] - 36s 122ms/step - loss: 1.8980\n",
      "Epoch 42/60\n",
      "300/300 [==============================] - 36s 122ms/step - loss: 1.9006\n",
      "Epoch 43/60\n",
      "300/300 [==============================] - 37s 125ms/step - loss: 1.8478\n",
      "Epoch 44/60\n",
      "300/300 [==============================] - 37s 122ms/step - loss: 1.8504\n",
      "Epoch 45/60\n",
      "300/300 [==============================] - 36s 122ms/step - loss: 1.8210\n",
      "Epoch 46/60\n",
      "300/300 [==============================] - 36s 121ms/step - loss: 1.7875\n",
      "Epoch 47/60\n",
      "300/300 [==============================] - 36s 121ms/step - loss: 1.7661\n",
      "Epoch 48/60\n",
      "300/300 [==============================] - 36s 121ms/step - loss: 1.7796\n",
      "Epoch 49/60\n",
      "300/300 [==============================] - 36s 121ms/step - loss: 1.7222\n",
      "Epoch 50/60\n",
      "300/300 [==============================] - 37s 122ms/step - loss: 1.7048\n",
      "Epoch 51/60\n",
      "300/300 [==============================] - 36s 121ms/step - loss: 1.6669\n",
      "Epoch 52/60\n",
      "300/300 [==============================] - 36s 121ms/step - loss: 1.7118\n",
      "Epoch 53/60\n",
      "300/300 [==============================] - 36s 121ms/step - loss: 1.6486\n",
      "Epoch 54/60\n",
      "300/300 [==============================] - 37s 122ms/step - loss: 1.6525\n",
      "Epoch 55/60\n",
      "300/300 [==============================] - 36s 121ms/step - loss: 1.6008\n",
      "Epoch 56/60\n",
      "300/300 [==============================] - 36s 122ms/step - loss: 1.6484\n",
      "Epoch 57/60\n",
      "300/300 [==============================] - 37s 122ms/step - loss: 1.5887\n",
      "Epoch 58/60\n",
      "300/300 [==============================] - 36s 121ms/step - loss: 1.6108\n",
      "Epoch 59/60\n",
      "300/300 [==============================] - 37s 123ms/step - loss: 1.6135\n",
      "Epoch 60/60\n",
      "300/300 [==============================] - 36s 122ms/step - loss: 1.5959\n"
     ]
    },
    {
     "data": {
      "text/plain": [
       "<tensorflow.python.keras.callbacks.History at 0x7f5b886dfcf8>"
      ]
     },
     "execution_count": 9,
     "metadata": {},
     "output_type": "execute_result"
    }
   ],
   "source": [
    "model.fit(gen(32), steps_per_epoch=300, epochs=60)"
   ]
  },
  {
   "cell_type": "markdown",
   "metadata": {},
   "source": [
    "## 預測"
   ]
  },
  {
   "cell_type": "code",
   "execution_count": 13,
   "metadata": {},
   "outputs": [
    {
     "data": {
      "image/png": "[encoded data removed]",
      "text/plain": [
       "<Figure size 432x288 with 1 Axes>"
      ]
     },
     "metadata": {
      "image/png": {
       "height": 217,
       "width": 369
      },
      "needs_background": "light"
     },
     "output_type": "display_data"
    }
   ],
   "source": [
    "characters2 = characters + ' '\n",
    "[X_test, y_test, _, _], _ = next(gen(1))\n",
    "y_pred = base_model.predict(X_test)\n",
    "# 用ctc_decode得到解答\n",
    "out = K.get_value(K.ctc_decode(y_pred, input_length=np.ones(y_pred.shape[0])*y_pred.shape[1], )[0][0])\n",
    "out = ''.join([characters[x] for x in out[0]])\n",
    "y_true = ''.join([characters[x] for x in y_test[0]])\n",
    "\n",
    "plt.imshow(X_test[0])\n",
    "plt.title('pred: ' + str(out) + '\\ntrue\" ' + str(y_true))\n",
    "argmax = np.argmax(y_pred, axis=2)[0]"
   ]
  },
  {
   "cell_type": "markdown",
   "metadata": {},
   "source": [
    "## 自己寫 decode CTC"
   ]
  },
  {
   "cell_type": "code",
   "execution_count": 14,
   "metadata": {},
   "outputs": [],
   "source": [
    "## 其中0代表預測為空格，如果預測相同字符之間沒有空格要移除\n",
    "word=''\n",
    "n=''\n",
    "for single_result in y_pred[0].argmax(1):\n",
    "    if single_result != 36:\n",
    "        if n != single_result:\n",
    "            word+=characters[single_result]\n",
    "    n=single_result "
   ]
  },
  {
   "cell_type": "code",
   "execution_count": 17,
   "metadata": {},
   "outputs": [
    {
     "data": {
      "text/plain": [
       "'DQAE'"
      ]
     },
     "execution_count": 17,
     "metadata": {},
     "output_type": "execute_result"
    }
   ],
   "source": [
    "word"
   ]
  },
  {
   "cell_type": "markdown",
   "metadata": {},
   "source": [
    "## 額外參考：加入RNN的神經網路"
   ]
  },
  {
   "cell_type": "code",
   "execution_count": 37,
   "metadata": {},
   "outputs": [
    {
     "name": "stderr",
     "output_type": "stream",
     "text": [
      "/Users/chening/anaconda3/lib/python3.6/site-packages/ipykernel_launcher.py:8: UserWarning: Update your `Conv2D` call to the Keras 2 API: `Conv2D(32, (3, 3), activation=\"relu\")`\n",
      "  \n",
      "/Users/chening/anaconda3/lib/python3.6/site-packages/ipykernel_launcher.py:10: UserWarning: Update your `Conv2D` call to the Keras 2 API: `Conv2D(32, (3, 3), activation=\"relu\")`\n",
      "  # Remove the CWD from sys.path while we load stuff.\n",
      "/Users/chening/anaconda3/lib/python3.6/site-packages/ipykernel_launcher.py:23: UserWarning: Update your `GRU` call to the Keras 2 API: `GRU(128, return_sequences=True, name=\"gru1\", kernel_initializer=\"he_normal\")`\n",
      "/Users/chening/anaconda3/lib/python3.6/site-packages/ipykernel_launcher.py:25: UserWarning: Update your `GRU` call to the Keras 2 API: `GRU(128, return_sequences=True, go_backwards=True, name=\"gru1_b\", kernel_initializer=\"he_normal\")`\n",
      "/Users/chening/anaconda3/lib/python3.6/site-packages/ipykernel_launcher.py:28: UserWarning: Update your `GRU` call to the Keras 2 API: `GRU(128, return_sequences=True, name=\"gru2\", kernel_initializer=\"he_normal\")`\n",
      "/Users/chening/anaconda3/lib/python3.6/site-packages/ipykernel_launcher.py:30: UserWarning: Update your `GRU` call to the Keras 2 API: `GRU(128, return_sequences=True, go_backwards=True, name=\"gru2_b\", kernel_initializer=\"he_normal\")`\n",
      "/Users/chening/anaconda3/lib/python3.6/site-packages/ipykernel_launcher.py:34: UserWarning: Update your `Dense` call to the Keras 2 API: `Dense(37, activation=\"softmax\", kernel_initializer=\"he_normal\")`\n",
      "/Users/chening/anaconda3/lib/python3.6/site-packages/ipykernel_launcher.py:36: UserWarning: Update your `Model` call to the Keras 2 API: `Model(inputs=Tensor(\"in..., outputs=Tensor(\"de...)`\n",
      "/Users/chening/anaconda3/lib/python3.6/site-packages/ipykernel_launcher.py:44: UserWarning: Update your `Model` call to the Keras 2 API: `Model(inputs=[<tf.Tenso..., outputs=[<tf.Tenso...)`\n"
     ]
    }
   ],
   "source": [
    "from keras.models import *\n",
    "from keras.layers import *\n",
    "rnn_size = 128\n",
    "\n",
    "input_tensor = Input((height,width, 3))\n",
    "x = input_tensor\n",
    "for i in range(4):\n",
    "    x = Convolution2D(32, 3, 3, activation='relu')(x)\n",
    "    x = keras.layers.BatchNormalization(axis=-1)(x)\n",
    "    x = Convolution2D(32, 3, 3, activation='relu')(x)\n",
    "    x = keras.layers.BatchNormalization(axis=-1)(x)\n",
    "    if i <3:\n",
    "        x = MaxPooling2D(pool_size=(2, 2))(x)\n",
    "    else:\n",
    "        x = MaxPooling2D(pool_size=(2, 1))(x)\n",
    "\n",
    "\n",
    "conv_shape = x.get_shape()\n",
    "x = Reshape(target_shape=(int(conv_shape[2]), int(conv_shape[1]*conv_shape[3])))(x)\n",
    "\n",
    "x = Dense(32, activation='relu')(x)\n",
    "\n",
    "gru_1 = GRU(rnn_size, return_sequences=True, init='he_normal', name='gru1')(x)\n",
    "gru_1b = GRU(rnn_size, return_sequences=True, go_backwards=True, \n",
    "             init='he_normal', name='gru1_b')(x)\n",
    "gru1_merged = keras.layers.add([gru_1, gru_1b])\n",
    "\n",
    "gru_2 = GRU(rnn_size, return_sequences=True, init='he_normal', name='gru2')(gru1_merged)\n",
    "gru_2b = GRU(rnn_size, return_sequences=True, go_backwards=True, \n",
    "             init='he_normal', name='gru2_b')(gru1_merged)\n",
    "x = keras.layers.Concatenate()([gru_2, gru_2b])\n",
    "\n",
    "x = Dropout(0.25)(x)\n",
    "x = Dense(n_class, init='he_normal', activation='softmax')(x)\n",
    "\n",
    "base_model = Model(input=input_tensor, output=x)\n",
    "\n",
    "labels = Input(name='the_labels', shape=[n_len], dtype='float32')\n",
    "input_length = Input(name='input_length', shape=[1], dtype='int64')\n",
    "label_length = Input(name='label_length', shape=[1], dtype='int64')\n",
    "loss_out = Lambda(ctc_lambda_func, output_shape=(1,), \n",
    "                  name='ctc')([x, labels, input_length, label_length])\n",
    "\n",
    "model = Model(input=[input_tensor, labels, input_length, label_length], output=[loss_out])\n",
    "model.compile(loss={'ctc': lambda y_true, y_pred: y_pred}, optimizer='Adam')"
   ]
  },
  {
   "cell_type": "code",
   "execution_count": 38,
   "metadata": {},
   "outputs": [
    {
     "name": "stdout",
     "output_type": "stream",
     "text": [
      "__________________________________________________________________________________________________\n",
      "Layer (type)                    Output Shape         Param #     Connected to                     \n",
      "==================================================================================================\n",
      "input_4 (InputLayer)            (None, 80, 170, 3)   0                                            \n",
      "__________________________________________________________________________________________________\n",
      "conv2d_25 (Conv2D)              (None, 78, 168, 32)  896         input_4[0][0]                    \n",
      "__________________________________________________________________________________________________\n",
      "batch_normalization_25 (BatchNo (None, 78, 168, 32)  128         conv2d_25[0][0]                  \n",
      "__________________________________________________________________________________________________\n",
      "conv2d_26 (Conv2D)              (None, 76, 166, 32)  9248        batch_normalization_25[0][0]     \n",
      "__________________________________________________________________________________________________\n",
      "batch_normalization_26 (BatchNo (None, 76, 166, 32)  128         conv2d_26[0][0]                  \n",
      "__________________________________________________________________________________________________\n",
      "max_pooling2d_13 (MaxPooling2D) (None, 38, 83, 32)   0           batch_normalization_26[0][0]     \n",
      "__________________________________________________________________________________________________\n",
      "conv2d_27 (Conv2D)              (None, 36, 81, 32)   9248        max_pooling2d_13[0][0]           \n",
      "__________________________________________________________________________________________________\n",
      "batch_normalization_27 (BatchNo (None, 36, 81, 32)   128         conv2d_27[0][0]                  \n",
      "__________________________________________________________________________________________________\n",
      "conv2d_28 (Conv2D)              (None, 34, 79, 32)   9248        batch_normalization_27[0][0]     \n",
      "__________________________________________________________________________________________________\n",
      "batch_normalization_28 (BatchNo (None, 34, 79, 32)   128         conv2d_28[0][0]                  \n",
      "__________________________________________________________________________________________________\n",
      "max_pooling2d_14 (MaxPooling2D) (None, 17, 39, 32)   0           batch_normalization_28[0][0]     \n",
      "__________________________________________________________________________________________________\n",
      "conv2d_29 (Conv2D)              (None, 15, 37, 32)   9248        max_pooling2d_14[0][0]           \n",
      "__________________________________________________________________________________________________\n",
      "batch_normalization_29 (BatchNo (None, 15, 37, 32)   128         conv2d_29[0][0]                  \n",
      "__________________________________________________________________________________________________\n",
      "conv2d_30 (Conv2D)              (None, 13, 35, 32)   9248        batch_normalization_29[0][0]     \n",
      "__________________________________________________________________________________________________\n",
      "batch_normalization_30 (BatchNo (None, 13, 35, 32)   128         conv2d_30[0][0]                  \n",
      "__________________________________________________________________________________________________\n",
      "max_pooling2d_15 (MaxPooling2D) (None, 6, 17, 32)    0           batch_normalization_30[0][0]     \n",
      "__________________________________________________________________________________________________\n",
      "conv2d_31 (Conv2D)              (None, 4, 15, 32)    9248        max_pooling2d_15[0][0]           \n",
      "__________________________________________________________________________________________________\n",
      "batch_normalization_31 (BatchNo (None, 4, 15, 32)    128         conv2d_31[0][0]                  \n",
      "__________________________________________________________________________________________________\n",
      "conv2d_32 (Conv2D)              (None, 2, 13, 32)    9248        batch_normalization_31[0][0]     \n",
      "__________________________________________________________________________________________________\n",
      "batch_normalization_32 (BatchNo (None, 2, 13, 32)    128         conv2d_32[0][0]                  \n",
      "__________________________________________________________________________________________________\n",
      "max_pooling2d_16 (MaxPooling2D) (None, 1, 13, 32)    0           batch_normalization_32[0][0]     \n",
      "__________________________________________________________________________________________________\n",
      "reshape_4 (Reshape)             (None, 13, 32)       0           max_pooling2d_16[0][0]           \n",
      "__________________________________________________________________________________________________\n",
      "dense_7 (Dense)                 (None, 13, 32)       1056        reshape_4[0][0]                  \n",
      "__________________________________________________________________________________________________\n",
      "gru1 (GRU)                      (None, 13, 128)      61824       dense_7[0][0]                    \n",
      "__________________________________________________________________________________________________\n",
      "gru1_b (GRU)                    (None, 13, 128)      61824       dense_7[0][0]                    \n",
      "__________________________________________________________________________________________________\n",
      "add_2 (Add)                     (None, 13, 128)      0           gru1[0][0]                       \n",
      "                                                                 gru1_b[0][0]                     \n",
      "__________________________________________________________________________________________________\n",
      "gru2 (GRU)                      (None, 13, 128)      98688       add_2[0][0]                      \n",
      "__________________________________________________________________________________________________\n",
      "gru2_b (GRU)                    (None, 13, 128)      98688       add_2[0][0]                      \n",
      "__________________________________________________________________________________________________\n",
      "concatenate_2 (Concatenate)     (None, 13, 256)      0           gru2[0][0]                       \n",
      "                                                                 gru2_b[0][0]                     \n",
      "__________________________________________________________________________________________________\n",
      "dropout_4 (Dropout)             (None, 13, 256)      0           concatenate_2[0][0]              \n",
      "__________________________________________________________________________________________________\n",
      "dense_8 (Dense)                 (None, 13, 37)       9509        dropout_4[0][0]                  \n",
      "__________________________________________________________________________________________________\n",
      "the_labels (InputLayer)         (None, 4)            0                                            \n",
      "__________________________________________________________________________________________________\n",
      "input_length (InputLayer)       (None, 1)            0                                            \n",
      "__________________________________________________________________________________________________\n",
      "label_length (InputLayer)       (None, 1)            0                                            \n",
      "__________________________________________________________________________________________________\n",
      "ctc (Lambda)                    (None, 1)            0           dense_8[0][0]                    \n",
      "                                                                 the_labels[0][0]                 \n",
      "                                                                 input_length[0][0]               \n",
      "                                                                 label_length[0][0]               \n",
      "==================================================================================================\n",
      "Total params: 398,245\n",
      "Trainable params: 397,733\n",
      "Non-trainable params: 512\n",
      "__________________________________________________________________________________________________\n"
     ]
    }
   ],
   "source": [
    "model.summary()"
   ]
  },
  {
   "cell_type": "code",
   "execution_count": null,
   "metadata": {},
   "outputs": [],
   "source": []
  }
 ],
 "metadata": {
  "accelerator": "GPU",
  "colab": {
   "collapsed_sections": [],
   "name": "Captcha.ipynb",
   "provenance": []
  },
  "kernelspec": {
   "display_name": "Python 3",
   "language": "python",
   "name": "python3"
  },
  "language_info": {
   "codemirror_mode": {
    "name": "ipython",
    "version": 3
   },
   "file_extension": ".py",
   "mimetype": "text/x-python",
   "name": "python",
   "nbconvert_exporter": "python",
   "pygments_lexer": "ipython3",
   "version": "3.6.9"
  }
 },
 "nbformat": 4,
 "nbformat_minor": 1
}
